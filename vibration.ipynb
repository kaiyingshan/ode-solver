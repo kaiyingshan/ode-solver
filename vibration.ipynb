{
 "cells": [
  {
   "cell_type": "code",
   "execution_count": 1,
   "metadata": {},
   "outputs": [],
   "source": [
    "from sympy import *\n",
    "init_printing()\n",
    "from root.solver import *\n",
    "from IPython.display import display"
   ]
  },
  {
   "cell_type": "code",
   "execution_count": 2,
   "metadata": {},
   "outputs": [
    {
     "data": {
      "text/latex": [
       "$\\displaystyle \\text{Characteristic equation: }$"
      ],
      "text/plain": [
       "<IPython.core.display.Math object>"
      ]
     },
     "metadata": {},
     "output_type": "display_data"
    },
    {
     "data": {
      "text/latex": [
       "$\\displaystyle r^{2} + 2 r + 5 = 0$"
      ],
      "text/plain": [
       "<IPython.core.display.Math object>"
      ]
     },
     "metadata": {},
     "output_type": "display_data"
    },
    {
     "data": {
      "text/latex": [
       "$\\displaystyle \\text{Roots: }$"
      ],
      "text/plain": [
       "<IPython.core.display.Math object>"
      ]
     },
     "metadata": {},
     "output_type": "display_data"
    },
    {
     "data": {
      "text/latex": [
       "$\\displaystyle r_{1} = -1 + 2 i$"
      ],
      "text/plain": [
       "<IPython.core.display.Math object>"
      ]
     },
     "metadata": {},
     "output_type": "display_data"
    },
    {
     "data": {
      "text/latex": [
       "$\\displaystyle r_{2} = -1 - 2 i$"
      ],
      "text/plain": [
       "<IPython.core.display.Math object>"
      ]
     },
     "metadata": {},
     "output_type": "display_data"
    },
    {
     "data": {
      "text/latex": [
       "$\\displaystyle \\text{Solutions: }$"
      ],
      "text/plain": [
       "<IPython.core.display.Math object>"
      ]
     },
     "metadata": {},
     "output_type": "display_data"
    },
    {
     "data": {
      "text/latex": [
       "$\\displaystyle y_{1} = e^{- t} \\cos{\\left (2 t \\right )}$"
      ],
      "text/plain": [
       "<IPython.core.display.Math object>"
      ]
     },
     "metadata": {},
     "output_type": "display_data"
    },
    {
     "data": {
      "text/latex": [
       "$\\displaystyle y_{2} = e^{- t} \\sin{\\left (2 t \\right )}$"
      ],
      "text/plain": [
       "<IPython.core.display.Math object>"
      ]
     },
     "metadata": {},
     "output_type": "display_data"
    },
    {
     "data": {
      "text/latex": [
       "$\\displaystyle \\text{Compute Wronskian}$"
      ],
      "text/plain": [
       "<IPython.core.display.Math object>"
      ]
     },
     "metadata": {},
     "output_type": "display_data"
    },
    {
     "data": {
      "text/latex": [
       "$\\displaystyle W = \\left|{\\left[\\begin{matrix}e^{- t} \\cos{\\left (2 t \\right )} & e^{- t} \\sin{\\left (2 t \\right )}\\\\- 2 e^{- t} \\sin{\\left (2 t \\right )} - e^{- t} \\cos{\\left (2 t \\right )} & - e^{- t} \\sin{\\left (2 t \\right )} + 2 e^{- t} \\cos{\\left (2 t \\right )}\\end{matrix}\\right]}\\right| = 2 e^{- 2 t}$"
      ],
      "text/plain": [
       "<IPython.core.display.Math object>"
      ]
     },
     "metadata": {},
     "output_type": "display_data"
    },
    {
     "data": {
      "text/latex": [
       "$\\displaystyle \\text{Compute } W_i$"
      ],
      "text/plain": [
       "<IPython.core.display.Math object>"
      ]
     },
     "metadata": {},
     "output_type": "display_data"
    },
    {
     "data": {
      "text/latex": [
       "$\\displaystyle W_{1} = \\left|{\\left[\\begin{matrix}0 & e^{- t} \\sin{\\left (2 t \\right )}\\\\1 & - e^{- t} \\sin{\\left (2 t \\right )} + 2 e^{- t} \\cos{\\left (2 t \\right )}\\end{matrix}\\right]}\\right| = - e^{- t} \\sin{\\left (2 t \\right )}$"
      ],
      "text/plain": [
       "<IPython.core.display.Math object>"
      ]
     },
     "metadata": {},
     "output_type": "display_data"
    },
    {
     "data": {
      "text/latex": [
       "$\\displaystyle W_{2} = \\left|{\\left[\\begin{matrix}e^{- t} \\cos{\\left (2 t \\right )} & 0\\\\- 2 e^{- t} \\sin{\\left (2 t \\right )} - e^{- t} \\cos{\\left (2 t \\right )} & 1\\end{matrix}\\right]}\\right| = e^{- t} \\cos{\\left (2 t \\right )}$"
      ],
      "text/plain": [
       "<IPython.core.display.Math object>"
      ]
     },
     "metadata": {},
     "output_type": "display_data"
    },
    {
     "data": {
      "text/latex": [
       "$\\displaystyle \\text{Compute } \\frac{g(t)}{W(t)}$"
      ],
      "text/plain": [
       "<IPython.core.display.Math object>"
      ]
     },
     "metadata": {},
     "output_type": "display_data"
    },
    {
     "data": {
      "text/latex": [
       "$\\displaystyle \\frac{F \\sin{\\left (\\sqrt{5} t \\right )}}{2 e^{- 2 t}} = \\frac{F e^{2 t} \\sin{\\left (\\sqrt{5} t \\right )}}{2}$"
      ],
      "text/plain": [
       "<IPython.core.display.Math object>"
      ]
     },
     "metadata": {},
     "output_type": "display_data"
    },
    {
     "data": {
      "text/latex": [
       "$\\displaystyle \\text{Compute } \\int \\frac{g(t)W_i(t)}{W(t)} dt$"
      ],
      "text/plain": [
       "<IPython.core.display.Math object>"
      ]
     },
     "metadata": {},
     "output_type": "display_data"
    },
    {
     "data": {
      "text/latex": [
       "$\\displaystyle \\int \\left(- \\frac{F e^{t} \\sin{\\left (2 t \\right )} \\sin{\\left (\\sqrt{5} t \\right )}}{2}\\right)\\, dt = - \\frac{F e^{t} \\sin{\\left (2 t \\right )} \\sin{\\left (\\sqrt{5} t \\right )}}{4} + \\frac{\\sqrt{5} F e^{t} \\sin{\\left (2 t \\right )} \\cos{\\left (\\sqrt{5} t \\right )}}{20} - \\frac{\\sqrt{5} F e^{t} \\cos{\\left (2 t \\right )} \\cos{\\left (\\sqrt{5} t \\right )}}{10}$"
      ],
      "text/plain": [
       "<IPython.core.display.Math object>"
      ]
     },
     "metadata": {},
     "output_type": "display_data"
    },
    {
     "data": {
      "text/latex": [
       "$\\displaystyle \\int \\frac{F e^{t} \\sin{\\left (\\sqrt{5} t \\right )} \\cos{\\left (2 t \\right )}}{2}\\, dt = - \\frac{\\sqrt{5} F e^{t} \\sin{\\left (2 t \\right )} \\cos{\\left (\\sqrt{5} t \\right )}}{10} + \\frac{F e^{t} \\sin{\\left (\\sqrt{5} t \\right )} \\cos{\\left (2 t \\right )}}{4} - \\frac{\\sqrt{5} F e^{t} \\cos{\\left (2 t \\right )} \\cos{\\left (\\sqrt{5} t \\right )}}{20}$"
      ],
      "text/plain": [
       "<IPython.core.display.Math object>"
      ]
     },
     "metadata": {},
     "output_type": "display_data"
    },
    {
     "data": {
      "text/latex": [
       "$\\displaystyle \\text{Compute the sum } \\sum_{i=1}^{k} y_i \\int \\frac{g(t)W_i(t)}{W(t)} dt$"
      ],
      "text/plain": [
       "<IPython.core.display.Math object>"
      ]
     },
     "metadata": {},
     "output_type": "display_data"
    },
    {
     "data": {
      "text/latex": [
       "$\\displaystyle \\left(- \\frac{F e^{t} \\sin{\\left (2 t \\right )} \\sin{\\left (\\sqrt{5} t \\right )}}{4} + \\frac{\\sqrt{5} F e^{t} \\sin{\\left (2 t \\right )} \\cos{\\left (\\sqrt{5} t \\right )}}{20} - \\frac{\\sqrt{5} F e^{t} \\cos{\\left (2 t \\right )} \\cos{\\left (\\sqrt{5} t \\right )}}{10}\\right) e^{- t} \\cos{\\left (2 t \\right )} + \\left(- \\frac{\\sqrt{5} F e^{t} \\sin{\\left (2 t \\right )} \\cos{\\left (\\sqrt{5} t \\right )}}{10} + \\frac{F e^{t} \\sin{\\left (\\sqrt{5} t \\right )} \\cos{\\left (2 t \\right )}}{4} - \\frac{\\sqrt{5} F e^{t} \\cos{\\left (2 t \\right )} \\cos{\\left (\\sqrt{5} t \\right )}}{20}\\right) e^{- t} \\sin{\\left (2 t \\right )} = - \\frac{\\sqrt{5} F \\cos{\\left (\\sqrt{5} t \\right )}}{10}$"
      ],
      "text/plain": [
       "<IPython.core.display.Math object>"
      ]
     },
     "metadata": {},
     "output_type": "display_data"
    },
    {
     "data": {
      "image/png": "[encoded data removed]",
      "text/latex": [
       "$$C_{1} e^{- t} \\cos{\\left (2 t \\right )} + C_{2} e^{- t} \\sin{\\left (2 t \\right )} - \\frac{\\sqrt{5} F \\cos{\\left (\\sqrt{5} t \\right )}}{10}$$"
      ],
      "text/plain": [
       "    -t                -t            √5⋅F⋅cos(√5⋅t)\n",
       "C₁⋅ℯ  ⋅cos(2⋅t) + C₂⋅ℯ  ⋅sin(2⋅t) - ──────────────\n",
       "                                          10      "
      ]
     },
     "execution_count": 2,
     "metadata": {},
     "output_type": "execute_result"
    }
   ],
   "source": [
    "F, t = symbols('F t')\n",
    "m = 1\n",
    "b = 2\n",
    "k = 5\n",
    "y1, y2, p = sec_order_const_coeff(m, b, k)\n",
    "display_procedure(p)\n",
    "\n",
    "# this is better solve by undetermined coefficients.\n",
    "yp, p = var_parameters([y1, y2], F*sin(sqrt(Rational(k, m)) * t))\n",
    "display_procedure(p)\n",
    "\n",
    "to_general([y1, y2], yp)[0]"
   ]
  },
  {
   "cell_type": "code",
   "execution_count": null,
   "metadata": {},
   "outputs": [],
   "source": []
  }
 ],
 "metadata": {
  "kernelspec": {
   "display_name": "Python 3",
   "language": "python",
   "name": "python3"
  },
  "language_info": {
   "codemirror_mode": {
    "name": "ipython",
    "version": 3
   },
   "file_extension": ".py",
   "mimetype": "text/x-python",
   "name": "python",
   "nbconvert_exporter": "python",
   "pygments_lexer": "ipython3",
   "version": "3.6.6"
  }
 },
 "nbformat": 4,
 "nbformat_minor": 2
}
