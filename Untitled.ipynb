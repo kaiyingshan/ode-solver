{
 "cells": [
  {
   "cell_type": "code",
   "execution_count": 1,
   "metadata": {},
   "outputs": [],
   "source": [
    "from sympy import *\n",
    "init_printing()\n",
    "from root.solver import *\n",
    "from IPython.display import display"
   ]
  },
  {
   "cell_type": "code",
   "execution_count": 2,
   "metadata": {},
   "outputs": [
    {
     "data": {
      "text/latex": [
       "$$\\text{Integrate y and t,}$$"
      ],
      "text/plain": [
       "<IPython.core.display.Math object>"
      ]
     },
     "metadata": {},
     "output_type": "display_data"
    },
    {
     "data": {
      "text/latex": [
       "$$\\int \\left(- y^{2} + 1\\right)\\, dy = \\int t^{2}\\, dt$$"
      ],
      "text/plain": [
       "<IPython.core.display.Math object>"
      ]
     },
     "metadata": {},
     "output_type": "display_data"
    },
    {
     "data": {
      "text/latex": [
       "$$- \\frac{y^{3}}{3} + y = c + \\frac{t^{3}}{3}$$"
      ],
      "text/plain": [
       "<IPython.core.display.Math object>"
      ]
     },
     "metadata": {},
     "output_type": "display_data"
    }
   ],
   "source": [
    "y = Symbol('y')\n",
    "t = Symbol('t')\n",
    "Y = 1 - y**2\n",
    "T = t**2\n",
    "y, p = first_order_separable(Y, T, False)\n",
    "display_procedure(p)"
   ]
  },
  {
   "cell_type": "code",
   "execution_count": 3,
   "metadata": {},
   "outputs": [
    {
     "data": {
      "image/png": "[encoded data removed]",
      "text/latex": [
       "$$\\left\\{\\frac{\\sqrt[3]{2} \\left(\\sqrt[3]{2} \\left(1 - \\sqrt{3} i\\right)^{2} \\left(t^{3} + \\sqrt{t^{6} - 4}\\right)^{\\frac{2}{3}} + 8\\right)}{4 \\left(1 - \\sqrt{3} i\\right) \\sqrt[3]{t^{3} + \\sqrt{t^{6} - 4}}}, \\frac{\\sqrt[3]{2} \\left(\\sqrt[3]{2} \\left(1 + \\sqrt{3} i\\right)^{2} \\left(t^{3} + \\sqrt{t^{6} - 4}\\right)^{\\frac{2}{3}} + 8\\right)}{4 \\left(1 + \\sqrt{3} i\\right) \\sqrt[3]{t^{3} + \\sqrt{t^{6} - 4}}}, - \\frac{2^{\\frac{2}{3}} \\sqrt[3]{t^{3} + \\sqrt{t^{6} - 4}}}{2} - \\frac{\\sqrt[3]{2}}{\\sqrt[3]{t^{3} + \\sqrt{t^{6} - 4}}}\\right\\}$$"
      ],
      "text/plain": [
       "⎧      ⎛                                    2/3    ⎞        ⎛                 \n",
       "⎪      ⎜                  ⎛        ________⎞       ⎟        ⎜                 \n",
       "⎪3 ___ ⎜3 ___           2 ⎜ 3     ╱  6     ⎟       ⎟  3 ___ ⎜3 ___           2\n",
       "⎪╲╱ 2 ⋅⎝╲╱ 2 ⋅(1 - √3⋅ⅈ) ⋅⎝t  + ╲╱  t  - 4 ⎠    + 8⎠  ╲╱ 2 ⋅⎝╲╱ 2 ⋅(1 + √3⋅ⅈ) \n",
       "⎨───────────────────────────────────────────────────, ────────────────────────\n",
       "⎪                         __________________                                  \n",
       "⎪                        ╱         ________                                   \n",
       "⎪                     3 ╱   3     ╱  6                                     3 ╱\n",
       "⎩        4⋅(1 - √3⋅ⅈ)⋅╲╱   t  + ╲╱  t  - 4                    4⋅(1 + √3⋅ⅈ)⋅╲╱ \n",
       "\n",
       "                   2/3    ⎞             __________________                    \n",
       " ⎛        ________⎞       ⎟            ╱         ________                     \n",
       " ⎜ 3     ╱  6     ⎟       ⎟     2/3 3 ╱   3     ╱  6                 3 ___    \n",
       "⋅⎝t  + ╲╱  t  - 4 ⎠    + 8⎠    2   ⋅╲╱   t  + ╲╱  t  - 4             ╲╱ 2     \n",
       "───────────────────────────, - ─────────────────────────── - ─────────────────\n",
       " __________________                         2                    _____________\n",
       "╱         ________                                              ╱         ____\n",
       "   3     ╱  6                                                3 ╱   3     ╱  6 \n",
       "  t  + ╲╱  t  - 4                                            ╲╱   t  + ╲╱  t  \n",
       "\n",
       "     ⎫\n",
       "     ⎪\n",
       "     ⎪\n",
       "     ⎪\n",
       "─────⎬\n",
       "_____⎪\n",
       "____ ⎪\n",
       "     ⎪\n",
       "- 4  ⎭"
      ]
     },
     "execution_count": 3,
     "metadata": {},
     "output_type": "execute_result"
    }
   ],
   "source": [
    "y"
   ]
  },
  {
   "cell_type": "code",
   "execution_count": 4,
   "metadata": {},
   "outputs": [
    {
     "data": {
      "text/latex": [
       "$$\\text{Calculate the integrating factor}$$"
      ],
      "text/plain": [
       "<IPython.core.display.Math object>"
      ]
     },
     "metadata": {},
     "output_type": "display_data"
    },
    {
     "data": {
      "text/latex": [
       "$$\\int \\frac{2}{t}\\, dt = 2 \\ln{\\left (t \\right )}$$"
      ],
      "text/plain": [
       "<IPython.core.display.Math object>"
      ]
     },
     "metadata": {},
     "output_type": "display_data"
    },
    {
     "data": {
      "text/latex": [
       "$$\\mu = t^{2}$$"
      ],
      "text/plain": [
       "<IPython.core.display.Math object>"
      ]
     },
     "metadata": {},
     "output_type": "display_data"
    },
    {
     "data": {
      "text/latex": [
       "$$\\text{Multiply the integrating factor with both sides of the equation}$$"
      ],
      "text/plain": [
       "<IPython.core.display.Math object>"
      ]
     },
     "metadata": {},
     "output_type": "display_data"
    },
    {
     "data": {
      "text/latex": [
       "$$t^{2} \\left(\\frac{d}{d t} y + \\frac{2 y}{t}\\right) = 4 t^{3}$$"
      ],
      "text/plain": [
       "<IPython.core.display.Math object>"
      ]
     },
     "metadata": {},
     "output_type": "display_data"
    },
    {
     "data": {
      "text/latex": [
       "$$\\text{Integrate both sides of the equation}$$"
      ],
      "text/plain": [
       "<IPython.core.display.Math object>"
      ]
     },
     "metadata": {},
     "output_type": "display_data"
    },
    {
     "data": {
      "text/latex": [
       "$$t^{2} y = c + t^{4}$$"
      ],
      "text/plain": [
       "<IPython.core.display.Math object>"
      ]
     },
     "metadata": {},
     "output_type": "display_data"
    },
    {
     "data": {
      "text/latex": [
       "$$\\text{Simplify the result}$$"
      ],
      "text/plain": [
       "<IPython.core.display.Math object>"
      ]
     },
     "metadata": {},
     "output_type": "display_data"
    },
    {
     "data": {
      "text/latex": [
       "$$\\frac{c + t^{4}}{t^{2}}$$"
      ],
      "text/plain": [
       "<IPython.core.display.Math object>"
      ]
     },
     "metadata": {},
     "output_type": "display_data"
    }
   ],
   "source": [
    "P = 2 / t\n",
    "Q = 4 * t\n",
    "y_2, p_2 = first_order_linear(P, Q)\n",
    "display_procedure(p_2)"
   ]
  },
  {
   "cell_type": "code",
   "execution_count": 5,
   "metadata": {},
   "outputs": [
    {
     "data": {
      "image/png": "[encoded data removed]",
      "text/latex": [
       "$$\\frac{c + t^{4}}{t^{2}}$$"
      ],
      "text/plain": [
       "     4\n",
       "c + t \n",
       "──────\n",
       "   2  \n",
       "  t   "
      ]
     },
     "execution_count": 5,
     "metadata": {},
     "output_type": "execute_result"
    }
   ],
   "source": [
    "y_2"
   ]
  },
  {
   "cell_type": "code",
   "execution_count": 6,
   "metadata": {},
   "outputs": [
    {
     "data": {
      "text/latex": [
       "$$\\text{Substitute $\\frac{y}{t}$ with $v$}$$"
      ],
      "text/plain": [
       "<IPython.core.display.Math object>"
      ]
     },
     "metadata": {},
     "output_type": "display_data"
    },
    {
     "data": {
      "text/latex": [
       "$$\\frac{d}{d t} y = \\frac{4 t}{y} + \\frac{y}{t}$$"
      ],
      "text/plain": [
       "<IPython.core.display.Math object>"
      ]
     },
     "metadata": {},
     "output_type": "display_data"
    },
    {
     "data": {
      "text/latex": [
       "$$t \\frac{d}{d t} v + v = v + \\frac{4}{v}$$"
      ],
      "text/plain": [
       "<IPython.core.display.Math object>"
      ]
     },
     "metadata": {},
     "output_type": "display_data"
    },
    {
     "data": {
      "text/latex": [
       "$$\\text{Simplify,}$$"
      ],
      "text/plain": [
       "<IPython.core.display.Math object>"
      ]
     },
     "metadata": {},
     "output_type": "display_data"
    },
    {
     "data": {
      "text/latex": [
       "$$\\frac{d}{d t} v = \\frac{4}{t v}$$"
      ],
      "text/plain": [
       "<IPython.core.display.Math object>"
      ]
     },
     "metadata": {},
     "output_type": "display_data"
    },
    {
     "data": {
      "text/latex": [
       "$$\\text{Solve the separable differential equation}$$"
      ],
      "text/plain": [
       "<IPython.core.display.Math object>"
      ]
     },
     "metadata": {},
     "output_type": "display_data"
    },
    {
     "data": {
      "text/latex": [
       "$$\\text{Integrate y and t,}$$"
      ],
      "text/plain": [
       "<IPython.core.display.Math object>"
      ]
     },
     "metadata": {},
     "output_type": "display_data"
    },
    {
     "data": {
      "text/latex": [
       "$$\\int \\frac{v}{4}\\, dv = \\int \\frac{1}{t}\\, dt$$"
      ],
      "text/plain": [
       "<IPython.core.display.Math object>"
      ]
     },
     "metadata": {},
     "output_type": "display_data"
    },
    {
     "data": {
      "text/latex": [
       "$$\\frac{v^{2}}{8} = c + \\ln{\\left (t \\right )}$$"
      ],
      "text/plain": [
       "<IPython.core.display.Math object>"
      ]
     },
     "metadata": {},
     "output_type": "display_data"
    },
    {
     "data": {
      "text/latex": [
       "$$\\text{Replace v with $\\frac{y}{t}$}$$"
      ],
      "text/plain": [
       "<IPython.core.display.Math object>"
      ]
     },
     "metadata": {},
     "output_type": "display_data"
    },
    {
     "data": {
      "text/latex": [
       "$$\\frac{y^{2}}{8 t^{2}} = c + \\ln{\\left (t \\right )}$$"
      ],
      "text/plain": [
       "<IPython.core.display.Math object>"
      ]
     },
     "metadata": {},
     "output_type": "display_data"
    }
   ],
   "source": [
    "#test first order homogeneous\n",
    "y_3 = Symbol('y')\n",
    "t_3 = Symbol('t')\n",
    "result_3, p_3 = first_order_homogeneous(4 * t_3/y_3 + y_3 / t_3)\n",
    "display_procedure(p_3)"
   ]
  },
  {
   "cell_type": "code",
   "execution_count": 7,
   "metadata": {},
   "outputs": [
    {
     "data": {
      "image/png": "[encoded data removed]",
      "text/latex": [
       "$$\\frac{y^{2}}{8 t^{2}} = c + \\log{\\left (t \\right )}$$"
      ],
      "text/plain": [
       "  2              \n",
       " y               \n",
       "──── = c + log(t)\n",
       "   2             \n",
       "8⋅t              "
      ]
     },
     "execution_count": 7,
     "metadata": {},
     "output_type": "execute_result"
    }
   ],
   "source": [
    "result_3"
   ]
  },
  {
   "cell_type": "code",
   "execution_count": 8,
   "metadata": {},
   "outputs": [
    {
     "data": {
      "text/latex": [
       "$$\\text{Separate variables,}$$"
      ],
      "text/plain": [
       "<IPython.core.display.Math object>"
      ]
     },
     "metadata": {},
     "output_type": "display_data"
    },
    {
     "data": {
      "text/latex": [
       "$$\\int \\frac{1}{3 y}\\, dy = c + \\int 1\\, dt$$"
      ],
      "text/plain": [
       "<IPython.core.display.Math object>"
      ]
     },
     "metadata": {},
     "output_type": "display_data"
    }
   ],
   "source": [
    "#test autonomous\n",
    "y_4, t_4 = symbols('y t')\n",
    "result_4, p_4 = first_order_autonomous(3 * y_4)\n",
    "display_procedure(p_4)"
   ]
  },
  {
   "cell_type": "code",
   "execution_count": 9,
   "metadata": {},
   "outputs": [
    {
     "data": {
      "image/png": "[encoded data removed]",
      "text/latex": [
       "$$\\frac{\\log{\\left (y \\right )}}{3} = c + t$$"
      ],
      "text/plain": [
       "log(y)        \n",
       "────── = c + t\n",
       "  3           "
      ]
     },
     "execution_count": 9,
     "metadata": {},
     "output_type": "execute_result"
    }
   ],
   "source": [
    "result_4"
   ]
  },
  {
   "cell_type": "code",
   "execution_count": 14,
   "metadata": {},
   "outputs": [
    {
     "data": {
      "text/latex": [
       "$$\\text{Determine if the equation is exact,}$$"
      ],
      "text/plain": [
       "<IPython.core.display.Math object>"
      ]
     },
     "metadata": {},
     "output_type": "display_data"
    },
    {
     "data": {
      "text/latex": [
       "$$M = - 9 t^{2} + 2 t y$$"
      ],
      "text/plain": [
       "<IPython.core.display.Math object>"
      ]
     },
     "metadata": {},
     "output_type": "display_data"
    },
    {
     "data": {
      "text/latex": [
       "$$N = t^{2} + 2 y + 1$$"
      ],
      "text/plain": [
       "<IPython.core.display.Math object>"
      ]
     },
     "metadata": {},
     "output_type": "display_data"
    },
    {
     "data": {
      "text/latex": [
       "$$My = 2 t$$"
      ],
      "text/plain": [
       "<IPython.core.display.Math object>"
      ]
     },
     "metadata": {},
     "output_type": "display_data"
    },
    {
     "data": {
      "text/latex": [
       "$$Nx = 2 t$$"
      ],
      "text/plain": [
       "<IPython.core.display.Math object>"
      ]
     },
     "metadata": {},
     "output_type": "display_data"
    },
    {
     "data": {
      "text/latex": [
       "$$\\text{The equation is already exact,}$$"
      ],
      "text/plain": [
       "<IPython.core.display.Math object>"
      ]
     },
     "metadata": {},
     "output_type": "display_data"
    },
    {
     "data": {
      "text/latex": [
       "$$2 t = 2 t$$"
      ],
      "text/plain": [
       "<IPython.core.display.Math object>"
      ]
     },
     "metadata": {},
     "output_type": "display_data"
    },
    {
     "data": {
      "text/latex": [
       "$$\\text{Integrate $M$ with respect to $x$,}$$"
      ],
      "text/plain": [
       "<IPython.core.display.Math object>"
      ]
     },
     "metadata": {},
     "output_type": "display_data"
    },
    {
     "data": {
      "text/latex": [
       "$$- 3 t^{3} + t^{2} y$$"
      ],
      "text/plain": [
       "<IPython.core.display.Math object>"
      ]
     },
     "metadata": {},
     "output_type": "display_data"
    },
    {
     "data": {
      "text/latex": [
       "$$\\text{Derive $h(y)$,}$$"
      ],
      "text/plain": [
       "<IPython.core.display.Math object>"
      ]
     },
     "metadata": {},
     "output_type": "display_data"
    },
    {
     "data": {
      "text/latex": [
       "$$\\frac{d}{d y} h = 2 y + 1$$"
      ],
      "text/plain": [
       "<IPython.core.display.Math object>"
      ]
     },
     "metadata": {},
     "output_type": "display_data"
    },
    {
     "data": {
      "text/latex": [
       "$$h = y^{2} + y$$"
      ],
      "text/plain": [
       "<IPython.core.display.Math object>"
      ]
     },
     "metadata": {},
     "output_type": "display_data"
    },
    {
     "data": {
      "text/latex": [
       "$$\\text{The solution is,}$$"
      ],
      "text/plain": [
       "<IPython.core.display.Math object>"
      ]
     },
     "metadata": {},
     "output_type": "display_data"
    },
    {
     "data": {
      "text/latex": [
       "$$- 3 t^{3} + t^{2} y + y^{2} + y = c$$"
      ],
      "text/plain": [
       "<IPython.core.display.Math object>"
      ]
     },
     "metadata": {},
     "output_type": "display_data"
    }
   ],
   "source": [
    "#test exact equation\n",
    "y5, t5 = symbols('y t')\n",
    "M = 2 * t5 * y5 - 9 * t5 ** 2\n",
    "N = 2 * y5 + t5 ** 2 + 1\n",
    "r_5, p_5 = first_order_exact(M, N, x = t)\n",
    "display_procedure(p_5)"
   ]
  },
  {
   "cell_type": "code",
   "execution_count": 15,
   "metadata": {},
   "outputs": [
    {
     "data": {
      "image/png": "[encoded data removed]",
      "text/latex": [
       "$$- 3 t^{3} + t^{2} y + y^{2} + y = c$$"
      ],
      "text/plain": [
       "     3    2      2        \n",
       "- 3⋅t  + t ⋅y + y  + y = c"
      ]
     },
     "execution_count": 15,
     "metadata": {},
     "output_type": "execute_result"
    }
   ],
   "source": [
    "r_5"
   ]
  },
  {
   "cell_type": "code",
   "execution_count": null,
   "metadata": {},
   "outputs": [],
   "source": []
  }
 ],
 "metadata": {
  "kernelspec": {
   "display_name": "Python 3",
   "language": "python",
   "name": "python3"
  },
  "language_info": {
   "codemirror_mode": {
    "name": "ipython",
    "version": 3
   },
   "file_extension": ".py",
   "mimetype": "text/x-python",
   "name": "python",
   "nbconvert_exporter": "python",
   "pygments_lexer": "ipython3",
   "version": "3.7.0"
  }
 },
 "nbformat": 4,
 "nbformat_minor": 2
}
