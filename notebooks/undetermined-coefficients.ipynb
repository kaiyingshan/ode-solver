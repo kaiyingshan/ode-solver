{
 "cells": [
  {
   "cell_type": "code",
   "execution_count": 1,
   "metadata": {},
   "outputs": [],
   "source": [
    "import os\n",
    "import sys\n",
    "module_path = os.path.abspath(os.path.join('..'))\n",
    "if module_path not in sys.path:\n",
    "    sys.path.append(module_path)\n",
    "from sympy import *\n",
    "init_printing()\n",
    "from root.solver import *"
   ]
  },
  {
   "cell_type": "markdown",
   "metadata": {},
   "source": [
    "#### Solve $y'' - 4y' + 4y = 2t^2 e^{2t}$ using the method of undetermined coefficients"
   ]
  },
  {
   "cell_type": "code",
   "execution_count": 2,
   "metadata": {
    "scrolled": false
   },
   "outputs": [
    {
     "data": {
      "text/latex": [
       "$\\displaystyle \\text{Characteristic equation: }$"
      ],
      "text/plain": [
       "<IPython.core.display.Math object>"
      ]
     },
     "metadata": {},
     "output_type": "display_data"
    },
    {
     "data": {
      "text/latex": [
       "$\\displaystyle r^{2} - 4 r + 4 = 0$"
      ],
      "text/plain": [
       "<IPython.core.display.Math object>"
      ]
     },
     "metadata": {},
     "output_type": "display_data"
    },
    {
     "data": {
      "text/latex": [
       "$\\displaystyle \\text{Roots: }\\left\\{ \\begin{array}{ll}r_{1,2} = 2\\\\\\end{array} \\right.$"
      ],
      "text/plain": [
       "<IPython.core.display.Math object>"
      ]
     },
     "metadata": {},
     "output_type": "display_data"
    },
    {
     "data": {
      "text/latex": [
       "$\\displaystyle \\text{General Solution: }$"
      ],
      "text/plain": [
       "<IPython.core.display.Math object>"
      ]
     },
     "metadata": {},
     "output_type": "display_data"
    },
    {
     "data": {
      "text/latex": [
       "$\\displaystyle y = \\left(C_{1} + C_{2} t\\right) e^{2 t}$"
      ],
      "text/plain": [
       "<IPython.core.display.Math object>"
      ]
     },
     "metadata": {},
     "output_type": "display_data"
    },
    {
     "data": {
      "text/latex": [
       "$\\displaystyle \\text{Find }Y(t)\\text{ that mimics the form of }g(t)$"
      ],
      "text/plain": [
       "<IPython.core.display.Math object>"
      ]
     },
     "metadata": {},
     "output_type": "display_data"
    },
    {
     "data": {
      "text/latex": [
       "$\\displaystyle Y{\\left (t \\right )} = A_{0} t^{2} e^{2 t} + A_{1} t^{3} e^{2 t} + A_{2} t^{4} e^{2 t}$"
      ],
      "text/plain": [
       "<IPython.core.display.Math object>"
      ]
     },
     "metadata": {},
     "output_type": "display_data"
    },
    {
     "data": {
      "text/latex": [
       "$\\displaystyle \\text{Compute successive derivatives of }Y(t)$"
      ],
      "text/plain": [
       "<IPython.core.display.Math object>"
      ]
     },
     "metadata": {},
     "output_type": "display_data"
    },
    {
     "data": {
      "text/latex": [
       "$\\displaystyle \\begin{align*}&Y{\\left (t \\right )} = t^{2} \\left(A_{0} + A_{1} t + A_{2} t^{2}\\right) e^{2 t}\\\\&\\frac{d}{d t} Y{\\left (t \\right )} = t \\left(2 A_{0} t + 2 A_{0} + 2 A_{1} t^{2} + 3 A_{1} t + 2 A_{2} t^{3} + 4 A_{2} t^{2}\\right) e^{2 t}\\\\&\\frac{d^{2}}{d t^{2}} Y{\\left (t \\right )} = 2 \\left(2 A_{0} t^{2} + 4 A_{0} t + A_{0} + 2 A_{1} t^{3} + 6 A_{1} t^{2} + 3 A_{1} t + 2 A_{2} t^{4} + 8 A_{2} t^{3} + 6 A_{2} t^{2}\\right) e^{2 t}\\\\\\end{align*}$"
      ],
      "text/plain": [
       "<IPython.core.display.Math object>"
      ]
     },
     "metadata": {},
     "output_type": "display_data"
    },
    {
     "data": {
      "text/latex": [
       "$\\displaystyle \\text{Plug into the LHS and equate coefficients}$"
      ],
      "text/plain": [
       "<IPython.core.display.Math object>"
      ]
     },
     "metadata": {},
     "output_type": "display_data"
    },
    {
     "data": {
      "text/latex": [
       "$\\displaystyle \\begin{align*}&4 t^{2} \\left(A_{0} + A_{1} t + A_{2} t^{2}\\right) e^{2 t} - 4 t \\left(2 A_{0} t + 2 A_{0} + 2 A_{1} t^{2} + 3 A_{1} t + 2 A_{2} t^{3} + 4 A_{2} t^{2}\\right) e^{2 t} + 2 \\left(2 A_{0} t^{2} + 4 A_{0} t + A_{0} + 2 A_{1} t^{3} + 6 A_{1} t^{2} + 3 A_{1} t + 2 A_{2} t^{4} + 8 A_{2} t^{3} + 6 A_{2} t^{2}\\right) e^{2 t} = 2 t^{2} e^{2 t}\\\\&2 A_{0} e^{2 t} + 6 A_{1} t e^{2 t} + 12 A_{2} t^{2} e^{2 t} = 2 t^{2} e^{2 t}\\\\\\end{align*}$"
      ],
      "text/plain": [
       "<IPython.core.display.Math object>"
      ]
     },
     "metadata": {},
     "output_type": "display_data"
    },
    {
     "data": {
      "text/latex": [
       "$\\displaystyle \\left\\{ \\begin{array}{ll}0 = 0\\\\12 A_{2} - 2 = 0\\\\2 A_{0} = 0\\\\6 A_{1} = 0\\\\0 = 0\\\\\\end{array} \\right.$"
      ],
      "text/plain": [
       "<IPython.core.display.Math object>"
      ]
     },
     "metadata": {},
     "output_type": "display_data"
    },
    {
     "data": {
      "text/latex": [
       "$\\displaystyle \\text{Solve for the undetermined coefficients}$"
      ],
      "text/plain": [
       "<IPython.core.display.Math object>"
      ]
     },
     "metadata": {},
     "output_type": "display_data"
    },
    {
     "data": {
      "text/latex": [
       "$\\displaystyle \\left\\{ \\begin{array}{ll}A_{0} = 0\\\\A_{1} = 0\\\\A_{2} = \\frac{1}{6}\\\\\\end{array} \\right.$"
      ],
      "text/plain": [
       "<IPython.core.display.Math object>"
      ]
     },
     "metadata": {},
     "output_type": "display_data"
    },
    {
     "data": {
      "text/latex": [
       "$\\displaystyle \\text{Substitute the coefficients to get the particular solution}$"
      ],
      "text/plain": [
       "<IPython.core.display.Math object>"
      ]
     },
     "metadata": {},
     "output_type": "display_data"
    },
    {
     "data": {
      "text/latex": [
       "$\\displaystyle y_{p} = \\frac{t^{4} e^{2 t}}{6}$"
      ],
      "text/plain": [
       "<IPython.core.display.Math object>"
      ]
     },
     "metadata": {},
     "output_type": "display_data"
    },
    {
     "data": {
      "image/png": "[encoded data removed]",
      "text/latex": [
       "$$\\left(C_{1} + C_{2} t + \\frac{t^{4}}{6}\\right) e^{2 t}$$"
      ],
      "text/plain": [
       "⎛             4⎞     \n",
       "⎜            t ⎟  2⋅t\n",
       "⎜C₁ + C₂⋅t + ──⎟⋅ℯ   \n",
       "⎝            6 ⎠     "
      ]
     },
     "execution_count": 2,
     "metadata": {},
     "output_type": "execute_result"
    }
   ],
   "source": [
    "coeffs = [1, -4, 4]\n",
    "yc, p = nth_order_const_coeff(*coeffs)\n",
    "p.display_ipython()\n",
    "yp, p = undetermined_coefficients(yc, coeffs, 2 * t ** 2 * exp(2*t))\n",
    "p.display_ipython()\n",
    "to_general(yc, yp)[0]"
   ]
  },
  {
   "cell_type": "markdown",
   "metadata": {},
   "source": [
    "Given that ${1, \\cos(t), \\sin(t)}$ are the complementary solutions of $y''' + y' = 2\\cos(2t) + 3\\sin(t)$, find the particular solution. "
   ]
  },
  {
   "cell_type": "code",
   "execution_count": 3,
   "metadata": {},
   "outputs": [
    {
     "data": {
      "text/latex": [
       "$\\displaystyle \\text{Find }Y(t)\\text{ that mimics the form of }g(t)$"
      ],
      "text/plain": [
       "<IPython.core.display.Math object>"
      ]
     },
     "metadata": {},
     "output_type": "display_data"
    },
    {
     "data": {
      "text/latex": [
       "$\\displaystyle Y{\\left (t \\right )} = A_{0} t \\sin{\\left (t \\right )} + A_{1} t \\cos{\\left (t \\right )} + A_{2} \\sin{\\left (2 t \\right )} + A_{3} \\cos{\\left (2 t \\right )}$"
      ],
      "text/plain": [
       "<IPython.core.display.Math object>"
      ]
     },
     "metadata": {},
     "output_type": "display_data"
    },
    {
     "data": {
      "text/latex": [
       "$\\displaystyle \\text{Compute successive derivatives of }Y(t)$"
      ],
      "text/plain": [
       "<IPython.core.display.Math object>"
      ]
     },
     "metadata": {},
     "output_type": "display_data"
    },
    {
     "data": {
      "text/latex": [
       "$\\displaystyle \\begin{align*}&Y{\\left (t \\right )} = A_{0} t \\sin{\\left (t \\right )} + A_{1} t \\cos{\\left (t \\right )} + A_{2} \\sin{\\left (2 t \\right )} + A_{3} \\cos{\\left (2 t \\right )}\\\\&\\frac{d}{d t} Y{\\left (t \\right )} = A_{0} t \\cos{\\left (t \\right )} + A_{0} \\sin{\\left (t \\right )} - A_{1} t \\sin{\\left (t \\right )} + A_{1} \\cos{\\left (t \\right )} + 2 A_{2} \\cos{\\left (2 t \\right )} - 2 A_{3} \\sin{\\left (2 t \\right )}\\\\&\\frac{d^{2}}{d t^{2}} Y{\\left (t \\right )} = - A_{0} t \\sin{\\left (t \\right )} + 2 A_{0} \\cos{\\left (t \\right )} - A_{1} t \\cos{\\left (t \\right )} - 2 A_{1} \\sin{\\left (t \\right )} - 4 A_{2} \\sin{\\left (2 t \\right )} - 4 A_{3} \\cos{\\left (2 t \\right )}\\\\&\\frac{d^{3}}{d t^{3}} Y{\\left (t \\right )} = - A_{0} t \\cos{\\left (t \\right )} - 3 A_{0} \\sin{\\left (t \\right )} + A_{1} t \\sin{\\left (t \\right )} - 3 A_{1} \\cos{\\left (t \\right )} - 8 A_{2} \\cos{\\left (2 t \\right )} + 8 A_{3} \\sin{\\left (2 t \\right )}\\\\\\end{align*}$"
      ],
      "text/plain": [
       "<IPython.core.display.Math object>"
      ]
     },
     "metadata": {},
     "output_type": "display_data"
    },
    {
     "data": {
      "text/latex": [
       "$\\displaystyle \\text{Plug into the LHS and equate coefficients}$"
      ],
      "text/plain": [
       "<IPython.core.display.Math object>"
      ]
     },
     "metadata": {},
     "output_type": "display_data"
    },
    {
     "data": {
      "text/latex": [
       "$\\displaystyle \\begin{align*}&- 2 A_{0} \\sin{\\left (t \\right )} - 2 A_{1} \\cos{\\left (t \\right )} - 6 A_{2} \\cos{\\left (2 t \\right )} + 6 A_{3} \\sin{\\left (2 t \\right )} = 3 \\sin{\\left (t \\right )} + 2 \\cos{\\left (2 t \\right )}\\\\&- 2 A_{0} \\sin{\\left (t \\right )} - 2 A_{1} \\cos{\\left (t \\right )} - 6 A_{2} \\cos{\\left (2 t \\right )} + 6 A_{3} \\sin{\\left (2 t \\right )} = 3 \\sin{\\left (t \\right )} + 2 \\cos{\\left (2 t \\right )}\\\\\\end{align*}$"
      ],
      "text/plain": [
       "<IPython.core.display.Math object>"
      ]
     },
     "metadata": {},
     "output_type": "display_data"
    },
    {
     "data": {
      "text/latex": [
       "$\\displaystyle \\left\\{ \\begin{array}{ll}0 = 0\\\\- 2 A_{0} - 3 = 0\\\\6 A_{3} = 0\\\\- 2 A_{1} = 0\\\\0 = 0\\\\- 6 A_{2} - 2 = 0\\\\\\end{array} \\right.$"
      ],
      "text/plain": [
       "<IPython.core.display.Math object>"
      ]
     },
     "metadata": {},
     "output_type": "display_data"
    },
    {
     "data": {
      "text/latex": [
       "$\\displaystyle \\text{Solve for the undetermined coefficients}$"
      ],
      "text/plain": [
       "<IPython.core.display.Math object>"
      ]
     },
     "metadata": {},
     "output_type": "display_data"
    },
    {
     "data": {
      "text/latex": [
       "$\\displaystyle \\left\\{ \\begin{array}{ll}A_{0} = - \\frac{3}{2}\\\\A_{1} = 0\\\\A_{2} = - \\frac{1}{3}\\\\A_{3} = 0\\\\\\end{array} \\right.$"
      ],
      "text/plain": [
       "<IPython.core.display.Math object>"
      ]
     },
     "metadata": {},
     "output_type": "display_data"
    },
    {
     "data": {
      "text/latex": [
       "$\\displaystyle \\text{Substitute the coefficients to get the particular solution}$"
      ],
      "text/plain": [
       "<IPython.core.display.Math object>"
      ]
     },
     "metadata": {},
     "output_type": "display_data"
    },
    {
     "data": {
      "text/latex": [
       "$\\displaystyle y_{p} = - \\frac{3 t}{2} \\sin{\\left (t \\right )} - \\frac{\\sin{\\left (2 t \\right )}}{3}$"
      ],
      "text/plain": [
       "<IPython.core.display.Math object>"
      ]
     },
     "metadata": {},
     "output_type": "display_data"
    }
   ],
   "source": [
    "yp, p = undetermined_coefficients([1, cos(t), sin(t)], [1, 0, 1, 0], 2*cos(2*t) + 3*sin(t))\n",
    "p.display_ipython()"
   ]
  },
  {
   "cell_type": "code",
   "execution_count": null,
   "metadata": {},
   "outputs": [],
   "source": []
  }
 ],
 "metadata": {
  "kernelspec": {
   "display_name": "Python 3",
   "language": "python",
   "name": "python3"
  },
  "language_info": {
   "codemirror_mode": {
    "name": "ipython",
    "version": 3
   },
   "file_extension": ".py",
   "mimetype": "text/x-python",
   "name": "python",
   "nbconvert_exporter": "python",
   "pygments_lexer": "ipython3",
   "version": "3.6.8"
  }
 },
 "nbformat": 4,
 "nbformat_minor": 2
}
