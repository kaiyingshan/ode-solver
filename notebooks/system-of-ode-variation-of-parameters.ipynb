{
 "cells": [
  {
   "cell_type": "code",
   "execution_count": 1,
   "metadata": {},
   "outputs": [],
   "source": [
    "import loader\n",
    "from sympy import *\n",
    "init_printing()\n",
    "from root.solver import *"
   ]
  },
  {
   "cell_type": "markdown",
   "metadata": {},
   "source": [
    "Find the complementary and particular solution of the system of ode\n",
    "$$\n",
    "    \\vec{\\mathbf{x'}} = \\begin{bmatrix}\n",
    "        -2 & 1 \\\\\n",
    "        1 & -2 \\\\\n",
    "    \\end{bmatrix} \\vec{\\mathbf{x}} + \\begin{bmatrix}\n",
    "        2 e^{-t} \\\\\n",
    "        3 t\n",
    "    \\end{bmatrix}\n",
    "$$\n",
    "using variation of parameters"
   ]
  },
  {
   "cell_type": "code",
   "execution_count": 2,
   "metadata": {
    "scrolled": false
   },
   "outputs": [
    {
     "data": {
      "text/latex": [
       "$\\displaystyle \\text{Characteristic equation: }$"
      ],
      "text/plain": [
       "<IPython.core.display.Math object>"
      ]
     },
     "metadata": {},
     "output_type": "display_data"
    },
    {
     "data": {
      "text/latex": [
       "$\\displaystyle \\left(\\lambda + 2\\right)^{2} - 1 = 0$"
      ],
      "text/plain": [
       "<IPython.core.display.Math object>"
      ]
     },
     "metadata": {},
     "output_type": "display_data"
    },
    {
     "data": {
      "text/latex": [
       "$\\displaystyle \\text{Eigenvalues and eigenvectors}$"
      ],
      "text/plain": [
       "<IPython.core.display.Math object>"
      ]
     },
     "metadata": {},
     "output_type": "display_data"
    },
    {
     "data": {
      "text/latex": [
       "$\\displaystyle \\lambda_1 = -3$"
      ],
      "text/plain": [
       "<IPython.core.display.Math object>"
      ]
     },
     "metadata": {},
     "output_type": "display_data"
    },
    {
     "data": {
      "text/latex": [
       "$\\displaystyle \\left[\\begin{matrix}1 & 1 & 0\\\\1 & 1 & 0\\end{matrix}\\right]\\text{ ~ }\\left[\\begin{matrix}1 & 1 & 0\\\\0 & 0 & 0\\end{matrix}\\right]\\Rightarrow v = \\left[\\begin{matrix}-1\\\\1\\end{matrix}\\right]$"
      ],
      "text/plain": [
       "<IPython.core.display.Math object>"
      ]
     },
     "metadata": {},
     "output_type": "display_data"
    },
    {
     "data": {
      "text/latex": [
       "$\\displaystyle \\lambda_2 = -1$"
      ],
      "text/plain": [
       "<IPython.core.display.Math object>"
      ]
     },
     "metadata": {},
     "output_type": "display_data"
    },
    {
     "data": {
      "text/latex": [
       "$\\displaystyle \\left[\\begin{matrix}-1 & 1 & 0\\\\1 & -1 & 0\\end{matrix}\\right]\\text{ ~ }\\left[\\begin{matrix}1 & -1 & 0\\\\0 & 0 & 0\\end{matrix}\\right]\\Rightarrow v = \\left[\\begin{matrix}1\\\\1\\end{matrix}\\right]$"
      ],
      "text/plain": [
       "<IPython.core.display.Math object>"
      ]
     },
     "metadata": {},
     "output_type": "display_data"
    },
    {
     "data": {
      "text/latex": [
       "$\\displaystyle \\text{General solution: }$"
      ],
      "text/plain": [
       "<IPython.core.display.Math object>"
      ]
     },
     "metadata": {},
     "output_type": "display_data"
    },
    {
     "data": {
      "text/latex": [
       "$\\displaystyle \\vec{\\mathbf{x}} = C_{1}e^{- 3 t}\\left[\\begin{matrix}-1\\\\1\\end{matrix}\\right]+C_{2}e^{- t}\\left[\\begin{matrix}1\\\\1\\end{matrix}\\right]$"
      ],
      "text/plain": [
       "<IPython.core.display.Math object>"
      ]
     },
     "metadata": {},
     "output_type": "display_data"
    },
    {
     "data": {
      "text/latex": [
       "$\\displaystyle \\text{Fundamental matrix }\\Psi$"
      ],
      "text/plain": [
       "<IPython.core.display.Math object>"
      ]
     },
     "metadata": {},
     "output_type": "display_data"
    },
    {
     "data": {
      "text/latex": [
       "$\\displaystyle \\left[\\begin{matrix}- e^{- 3 t} & e^{- t}\\\\e^{- 3 t} & e^{- t}\\end{matrix}\\right]$"
      ],
      "text/plain": [
       "<IPython.core.display.Math object>"
      ]
     },
     "metadata": {},
     "output_type": "display_data"
    },
    {
     "data": {
      "text/latex": [
       "$\\displaystyle \\text{Calculate the inverse of the fundamental matrix }\\Psi^{-1}$"
      ],
      "text/plain": [
       "<IPython.core.display.Math object>"
      ]
     },
     "metadata": {},
     "output_type": "display_data"
    },
    {
     "data": {
      "text/latex": [
       "$\\displaystyle \\Psi^{-1} = \\left[\\begin{matrix}- \\frac{e^{3 t}}{2} & \\frac{e^{3 t}}{2}\\\\\\frac{e^{t}}{2} & \\frac{e^{t}}{2}\\end{matrix}\\right]$"
      ],
      "text/plain": [
       "<IPython.core.display.Math object>"
      ]
     },
     "metadata": {},
     "output_type": "display_data"
    },
    {
     "data": {
      "text/latex": [
       "$\\displaystyle \\text{Compute }\\Psi^{-1} g(t)$"
      ],
      "text/plain": [
       "<IPython.core.display.Math object>"
      ]
     },
     "metadata": {},
     "output_type": "display_data"
    },
    {
     "data": {
      "text/latex": [
       "$\\displaystyle \\Psi^{-1} g(t) = \\left[\\begin{matrix}\\frac{3 t e^{3 t}}{2} - e^{2 t}\\\\\\frac{3 t e^{t}}{2} + 1\\end{matrix}\\right]$"
      ],
      "text/plain": [
       "<IPython.core.display.Math object>"
      ]
     },
     "metadata": {},
     "output_type": "display_data"
    },
    {
     "data": {
      "text/latex": [
       "$\\displaystyle \\text{Compute the integral}$"
      ],
      "text/plain": [
       "<IPython.core.display.Math object>"
      ]
     },
     "metadata": {},
     "output_type": "display_data"
    },
    {
     "data": {
      "text/latex": [
       "$\\displaystyle \\int \\Psi^{-1} g(t) =\\left[\\begin{matrix}\\frac{t e^{3 t}}{2} - \\frac{e^{3 t}}{6} - \\frac{e^{2 t}}{2}\\\\\\frac{3 t e^{t}}{2} + t - \\frac{3 e^{t}}{2}\\end{matrix}\\right]$"
      ],
      "text/plain": [
       "<IPython.core.display.Math object>"
      ]
     },
     "metadata": {},
     "output_type": "display_data"
    },
    {
     "data": {
      "text/latex": [
       "$\\displaystyle \\text{Finally, }\\vec{\\mathbf{x_p}} = \\Psi \\int \\Psi^{-1} g(t)$"
      ],
      "text/plain": [
       "<IPython.core.display.Math object>"
      ]
     },
     "metadata": {},
     "output_type": "display_data"
    },
    {
     "data": {
      "text/latex": [
       "$\\displaystyle \\vec{\\mathbf{x_p}} =\\left[\\begin{matrix}t + t e^{- t} - \\frac{4}{3} + \\frac{e^{- t}}{2}\\\\2 t + t e^{- t} - \\frac{5}{3} - \\frac{e^{- t}}{2}\\end{matrix}\\right]$"
      ],
      "text/plain": [
       "<IPython.core.display.Math object>"
      ]
     },
     "metadata": {},
     "output_type": "display_data"
    }
   ],
   "source": [
    "xc, p = system([\n",
    "    [-2, 1],\n",
    "    [1, -2]\n",
    "])\n",
    "p.display()\n",
    "_, p = nonhomo_system_variation_of_parameters(xc, [2 * exp(-t), 3*t])\n",
    "p.display()"
   ]
  },
  {
   "cell_type": "markdown",
   "metadata": {},
   "source": [
    "Find a particular solution of the system\n",
    "$$\n",
    "    \\vec{\\mathbf{x'}} = \\begin{bmatrix}\n",
    "        10 & -5 \\\\\n",
    "        20 & -10 \\\\\n",
    "    \\end{bmatrix} \\vec{\\mathbf{x}} + \\begin{bmatrix}\n",
    "        t^{-3} \\\\\n",
    "        -t^{-2}\n",
    "    \\end{bmatrix}\n",
    "$$\n",
    "using variation of parameters"
   ]
  },
  {
   "cell_type": "code",
   "execution_count": 3,
   "metadata": {
    "scrolled": false
   },
   "outputs": [
    {
     "data": {
      "text/latex": [
       "$\\displaystyle \\text{Characteristic equation: }$"
      ],
      "text/plain": [
       "<IPython.core.display.Math object>"
      ]
     },
     "metadata": {},
     "output_type": "display_data"
    },
    {
     "data": {
      "text/latex": [
       "$\\displaystyle \\lambda^{2} = 0$"
      ],
      "text/plain": [
       "<IPython.core.display.Math object>"
      ]
     },
     "metadata": {},
     "output_type": "display_data"
    },
    {
     "data": {
      "text/latex": [
       "$\\displaystyle \\text{Eigenvalues and eigenvectors}$"
      ],
      "text/plain": [
       "<IPython.core.display.Math object>"
      ]
     },
     "metadata": {},
     "output_type": "display_data"
    },
    {
     "data": {
      "text/latex": [
       "$\\displaystyle \\lambda_1 = 0$"
      ],
      "text/plain": [
       "<IPython.core.display.Math object>"
      ]
     },
     "metadata": {},
     "output_type": "display_data"
    },
    {
     "data": {
      "text/latex": [
       "$\\displaystyle \\left[\\begin{matrix}10 & -5 & 0\\\\20 & -10 & 0\\end{matrix}\\right]\\text{ ~ }\\left[\\begin{matrix}1 & - \\frac{1}{2} & 0\\\\0 & 0 & 0\\end{matrix}\\right]\\Rightarrow v = \\left[\\begin{matrix}\\frac{1}{2}\\\\1\\end{matrix}\\right]$"
      ],
      "text/plain": [
       "<IPython.core.display.Math object>"
      ]
     },
     "metadata": {},
     "output_type": "display_data"
    },
    {
     "data": {
      "text/latex": [
       "$\\displaystyle \\text{Find the generalized eigenvector}\\left( M - \\lambda I \\right) w = v $"
      ],
      "text/plain": [
       "<IPython.core.display.Math object>"
      ]
     },
     "metadata": {},
     "output_type": "display_data"
    },
    {
     "data": {
      "text/latex": [
       "$\\displaystyle \\left[\\begin{matrix}10 & -5 & \\frac{1}{2}\\\\20 & -10 & 1\\end{matrix}\\right]\\text{ ~ }\\left[\\begin{matrix}1 & - \\frac{1}{2} & \\frac{1}{20}\\\\0 & 0 & 0\\end{matrix}\\right]\\Rightarrow w = \\left[\\begin{matrix}\\frac{1}{20}\\\\0\\end{matrix}\\right]$"
      ],
      "text/plain": [
       "<IPython.core.display.Math object>"
      ]
     },
     "metadata": {},
     "output_type": "display_data"
    },
    {
     "data": {
      "text/latex": [
       "$\\displaystyle \\text{General solution: }$"
      ],
      "text/plain": [
       "<IPython.core.display.Math object>"
      ]
     },
     "metadata": {},
     "output_type": "display_data"
    },
    {
     "data": {
      "text/latex": [
       "$\\displaystyle \\vec{\\mathbf{x}} = C_{1}1\\left[\\begin{matrix}\\frac{1}{2}\\\\1\\end{matrix}\\right]+C_{2}1\\left(\\left[\\begin{matrix}\\frac{1}{2}\\\\1\\end{matrix}\\right]t + \\left[\\begin{matrix}\\frac{1}{20}\\\\0\\end{matrix}\\right]\\right)$"
      ],
      "text/plain": [
       "<IPython.core.display.Math object>"
      ]
     },
     "metadata": {},
     "output_type": "display_data"
    },
    {
     "data": {
      "text/latex": [
       "$\\displaystyle \\text{Fundamental matrix }\\Psi$"
      ],
      "text/plain": [
       "<IPython.core.display.Math object>"
      ]
     },
     "metadata": {},
     "output_type": "display_data"
    },
    {
     "data": {
      "text/latex": [
       "$\\displaystyle \\left[\\begin{matrix}\\frac{1}{2} & \\frac{t}{2} + \\frac{1}{20}\\\\1 & t\\end{matrix}\\right]$"
      ],
      "text/plain": [
       "<IPython.core.display.Math object>"
      ]
     },
     "metadata": {},
     "output_type": "display_data"
    },
    {
     "data": {
      "text/latex": [
       "$\\displaystyle \\text{Calculate the inverse of the fundamental matrix }\\Psi^{-1}$"
      ],
      "text/plain": [
       "<IPython.core.display.Math object>"
      ]
     },
     "metadata": {},
     "output_type": "display_data"
    },
    {
     "data": {
      "text/latex": [
       "$\\displaystyle \\Psi^{-1} = \\left[\\begin{matrix}- 20 t & 10 t + 1\\\\20 & -10\\end{matrix}\\right]$"
      ],
      "text/plain": [
       "<IPython.core.display.Math object>"
      ]
     },
     "metadata": {},
     "output_type": "display_data"
    },
    {
     "data": {
      "text/latex": [
       "$\\displaystyle \\text{Compute }\\Psi^{-1} g(t)$"
      ],
      "text/plain": [
       "<IPython.core.display.Math object>"
      ]
     },
     "metadata": {},
     "output_type": "display_data"
    },
    {
     "data": {
      "text/latex": [
       "$\\displaystyle \\Psi^{-1} g(t) = \\left[\\begin{matrix}- \\frac{10}{t} - \\frac{21}{t^{2}}\\\\\\frac{10}{t^{2}} + \\frac{20}{t^{3}}\\end{matrix}\\right]$"
      ],
      "text/plain": [
       "<IPython.core.display.Math object>"
      ]
     },
     "metadata": {},
     "output_type": "display_data"
    },
    {
     "data": {
      "text/latex": [
       "$\\displaystyle \\text{Compute the integral}$"
      ],
      "text/plain": [
       "<IPython.core.display.Math object>"
      ]
     },
     "metadata": {},
     "output_type": "display_data"
    },
    {
     "data": {
      "text/latex": [
       "$\\displaystyle \\int \\Psi^{-1} g(t) =\\left[\\begin{matrix}- 10 \\ln{\\left(t \\right)} + \\frac{21}{t}\\\\- \\frac{10}{t} - \\frac{10}{t^{2}}\\end{matrix}\\right]$"
      ],
      "text/plain": [
       "<IPython.core.display.Math object>"
      ]
     },
     "metadata": {},
     "output_type": "display_data"
    },
    {
     "data": {
      "text/latex": [
       "$\\displaystyle \\text{Finally, }\\vec{\\mathbf{x_p}} = \\Psi \\int \\Psi^{-1} g(t)$"
      ],
      "text/plain": [
       "<IPython.core.display.Math object>"
      ]
     },
     "metadata": {},
     "output_type": "display_data"
    },
    {
     "data": {
      "text/latex": [
       "$\\displaystyle \\vec{\\mathbf{x_p}} =\\left[\\begin{matrix}- 5 \\ln{\\left(t \\right)} - 5 + \\frac{5}{t} - \\frac{1}{2 t^{2}}\\\\- 10 \\ln{\\left(t \\right)} - 10 + \\frac{11}{t}\\end{matrix}\\right]$"
      ],
      "text/plain": [
       "<IPython.core.display.Math object>"
      ]
     },
     "metadata": {},
     "output_type": "display_data"
    }
   ],
   "source": [
    "xc, p = system([\n",
    "    [10, -5],\n",
    "    [20, -10]\n",
    "])\n",
    "p.display()\n",
    "_, p = nonhomo_system_variation_of_parameters(xc, [t**(-3),-t**(-2)])\n",
    "p.display()"
   ]
  },
  {
   "cell_type": "code",
   "execution_count": null,
   "metadata": {},
   "outputs": [],
   "source": []
  }
 ],
 "metadata": {
  "kernelspec": {
   "display_name": "Python 3",
   "language": "python",
   "name": "python3"
  },
  "language_info": {
   "codemirror_mode": {
    "name": "ipython",
    "version": 3
   },
   "file_extension": ".py",
   "mimetype": "text/x-python",
   "name": "python",
   "nbconvert_exporter": "python",
   "pygments_lexer": "ipython3",
   "version": "3.6.8"
  }
 },
 "nbformat": 4,
 "nbformat_minor": 2
}
