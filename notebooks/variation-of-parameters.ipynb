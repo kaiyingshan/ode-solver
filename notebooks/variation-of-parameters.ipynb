{
 "cells": [
  {
   "cell_type": "code",
   "execution_count": 1,
   "metadata": {},
   "outputs": [],
   "source": [
    "import loader\n",
    "from sympy import *\n",
    "init_printing()\n",
    "from root.solver import *"
   ]
  },
  {
   "cell_type": "markdown",
   "metadata": {},
   "source": [
    "#### Solve the nonhomogeneous differential equation $y'' + y = \\sec t + \\tan t + t$ using variation of parameters"
   ]
  },
  {
   "cell_type": "code",
   "execution_count": 2,
   "metadata": {},
   "outputs": [
    {
     "data": {
      "text/latex": [
       "$\\displaystyle \\text{Characteristic equation: }$"
      ],
      "text/plain": [
       "<IPython.core.display.Math object>"
      ]
     },
     "metadata": {},
     "output_type": "display_data"
    },
    {
     "data": {
      "text/latex": [
       "$\\displaystyle r^{2} + 1 = 0$"
      ],
      "text/plain": [
       "<IPython.core.display.Math object>"
      ]
     },
     "metadata": {},
     "output_type": "display_data"
    },
    {
     "data": {
      "text/latex": [
       "$\\displaystyle \\text{Roots: }\\left\\{ \\begin{array}{ll}r_{1} = i\\\\r_{2} = - i\\\\\\end{array} \\right.$"
      ],
      "text/plain": [
       "<IPython.core.display.Math object>"
      ]
     },
     "metadata": {},
     "output_type": "display_data"
    },
    {
     "data": {
      "text/latex": [
       "$\\displaystyle \\text{General Solution: }$"
      ],
      "text/plain": [
       "<IPython.core.display.Math object>"
      ]
     },
     "metadata": {},
     "output_type": "display_data"
    },
    {
     "data": {
      "text/latex": [
       "$\\displaystyle y = C_{1} \\sin{\\left (t \\right )} + C_{2} \\cos{\\left (t \\right )}$"
      ],
      "text/plain": [
       "<IPython.core.display.Math object>"
      ]
     },
     "metadata": {},
     "output_type": "display_data"
    },
    {
     "data": {
      "text/latex": [
       "$\\displaystyle \\text{Compute the Wronskian determinant}$"
      ],
      "text/plain": [
       "<IPython.core.display.Math object>"
      ]
     },
     "metadata": {},
     "output_type": "display_data"
    },
    {
     "data": {
      "text/latex": [
       "$\\displaystyle W = \\left|{\\left[\\begin{matrix}\\sin{\\left (t \\right )} & \\cos{\\left (t \\right )}\\\\\\cos{\\left (t \\right )} & - \\sin{\\left (t \\right )}\\end{matrix}\\right]}\\right| = -1$"
      ],
      "text/plain": [
       "<IPython.core.display.Math object>"
      ]
     },
     "metadata": {},
     "output_type": "display_data"
    },
    {
     "data": {
      "text/latex": [
       "$\\displaystyle \\text{Compute }W_i$"
      ],
      "text/plain": [
       "<IPython.core.display.Math object>"
      ]
     },
     "metadata": {},
     "output_type": "display_data"
    },
    {
     "data": {
      "text/latex": [
       "$\\displaystyle \\begin{align*}&W_{1} = \\left|{\\left[\\begin{matrix}0 & \\cos{\\left (t \\right )}\\\\1 & - \\sin{\\left (t \\right )}\\end{matrix}\\right]}\\right| = - \\cos{\\left (t \\right )}\\\\&W_{2} = \\left|{\\left[\\begin{matrix}\\sin{\\left (t \\right )} & 0\\\\\\cos{\\left (t \\right )} & 1\\end{matrix}\\right]}\\right| = \\sin{\\left (t \\right )}\\\\\\end{align*}$"
      ],
      "text/plain": [
       "<IPython.core.display.Math object>"
      ]
     },
     "metadata": {},
     "output_type": "display_data"
    },
    {
     "data": {
      "text/latex": [
       "$\\displaystyle \\text{Calculate and simplify }\\frac{g(t)}{W(t)}$"
      ],
      "text/plain": [
       "<IPython.core.display.Math object>"
      ]
     },
     "metadata": {},
     "output_type": "display_data"
    },
    {
     "data": {
      "text/latex": [
       "$\\displaystyle \\frac{1}{-1} \\left(t + \\tan{\\left (t \\right )} + \\sec{\\left (t \\right )}\\right) = - t - \\tan{\\left (t \\right )} - \\frac{1}{\\cos{\\left (t \\right )}}$"
      ],
      "text/plain": [
       "<IPython.core.display.Math object>"
      ]
     },
     "metadata": {},
     "output_type": "display_data"
    },
    {
     "data": {
      "text/latex": [
       "$\\displaystyle \\text{Compute }\\mu_i = \\int \\frac{g(t)W_i(t)}{W(t)} dt$"
      ],
      "text/plain": [
       "<IPython.core.display.Math object>"
      ]
     },
     "metadata": {},
     "output_type": "display_data"
    },
    {
     "data": {
      "text/latex": [
       "$\\displaystyle \\begin{align*}&\\mu_{1} = \\int \\left(t \\cos{\\left (t \\right )} + \\cos{\\left (t \\right )} \\tan{\\left (t \\right )} + 1\\right)\\, dt = t \\sin{\\left (t \\right )} + t\\\\&\\mu_{2} = \\int \\left(- t \\sin{\\left (t \\right )} - \\sin{\\left (t \\right )} \\tan{\\left (t \\right )} - \\frac{\\sin{\\left (t \\right )}}{\\cos{\\left (t \\right )}}\\right)\\, dt = t \\cos{\\left (t \\right )} + \\frac{1}{2} \\ln{\\left (\\sin{\\left (t \\right )} - 1 \\right )} - \\frac{1}{2} \\ln{\\left (\\sin{\\left (t \\right )} + 1 \\right )} + \\ln{\\left (\\cos{\\left (t \\right )} \\right )}\\\\\\end{align*}$"
      ],
      "text/plain": [
       "<IPython.core.display.Math object>"
      ]
     },
     "metadata": {},
     "output_type": "display_data"
    },
    {
     "data": {
      "text/latex": [
       "$\\displaystyle \\text{Compute the sum }\\sum_{i=1}^{k} y_i \\int \\frac{g(t)W_i(t)}{W(t)} dt$"
      ],
      "text/plain": [
       "<IPython.core.display.Math object>"
      ]
     },
     "metadata": {},
     "output_type": "display_data"
    },
    {
     "data": {
      "text/latex": [
       "$\\displaystyle \\begin{align*}&y_{p} = \\left(t \\sin{\\left (t \\right )} + t\\right) \\sin{\\left (t \\right )} + \\left(t \\cos{\\left (t \\right )} + \\frac{1}{2} \\ln{\\left (\\sin{\\left (t \\right )} - 1 \\right )} - \\frac{1}{2} \\ln{\\left (\\sin{\\left (t \\right )} + 1 \\right )} + \\ln{\\left (\\cos{\\left (t \\right )} \\right )}\\right) \\cos{\\left (t \\right )}\\\\&y_{p} = t \\sin{\\left (t \\right )} + t + \\frac{\\cos{\\left (t \\right )}}{2} \\ln{\\left (\\sin{\\left (t \\right )} - 1 \\right )} - \\frac{\\cos{\\left (t \\right )}}{2} \\ln{\\left (\\sin{\\left (t \\right )} + 1 \\right )} + \\ln{\\left (\\cos{\\left (t \\right )} \\right )} \\cos{\\left (t \\right )}\\\\\\end{align*}$"
      ],
      "text/plain": [
       "<IPython.core.display.Math object>"
      ]
     },
     "metadata": {},
     "output_type": "display_data"
    },
    {
     "data": {
      "text/latex": [
       "$\\displaystyle \\text{Complementray + particular = general}$"
      ],
      "text/plain": [
       "<IPython.core.display.Math object>"
      ]
     },
     "metadata": {},
     "output_type": "display_data"
    },
    {
     "data": {
      "text/latex": [
       "$\\displaystyle y = t + \\left(C_{1} + t\\right) \\sin{\\left (t \\right )} + \\left(C_{2} + \\frac{1}{2} \\ln{\\left (\\sin{\\left (t \\right )} - 1 \\right )} - \\frac{1}{2} \\ln{\\left (\\sin{\\left (t \\right )} + 1 \\right )} + \\ln{\\left (\\cos{\\left (t \\right )} \\right )}\\right) \\cos{\\left (t \\right )}$"
      ],
      "text/plain": [
       "<IPython.core.display.Math object>"
      ]
     },
     "metadata": {},
     "output_type": "display_data"
    }
   ],
   "source": [
    "yc, p = nth_order_const_coeff(1, 0, 1)\n",
    "p.display()\n",
    "yp, p = variation_of_parameters(yc, sec(t) + tan(t) + t)\n",
    "p.display()"
   ]
  },
  {
   "cell_type": "markdown",
   "metadata": {},
   "source": [
    "#### Solve the nonhomogeneous differential equation $y'' - 12 y' + 36y = t^{-2} e^{6t} + 14t^2$ using variation of parameters"
   ]
  },
  {
   "cell_type": "code",
   "execution_count": 3,
   "metadata": {},
   "outputs": [
    {
     "data": {
      "text/latex": [
       "$\\displaystyle \\text{Characteristic equation: }$"
      ],
      "text/plain": [
       "<IPython.core.display.Math object>"
      ]
     },
     "metadata": {},
     "output_type": "display_data"
    },
    {
     "data": {
      "text/latex": [
       "$\\displaystyle r^{2} - 12 r + 36 = 0$"
      ],
      "text/plain": [
       "<IPython.core.display.Math object>"
      ]
     },
     "metadata": {},
     "output_type": "display_data"
    },
    {
     "data": {
      "text/latex": [
       "$\\displaystyle \\text{Roots: }\\left\\{ \\begin{array}{ll}r_{1,2} = 6\\\\\\end{array} \\right.$"
      ],
      "text/plain": [
       "<IPython.core.display.Math object>"
      ]
     },
     "metadata": {},
     "output_type": "display_data"
    },
    {
     "data": {
      "text/latex": [
       "$\\displaystyle \\text{General Solution: }$"
      ],
      "text/plain": [
       "<IPython.core.display.Math object>"
      ]
     },
     "metadata": {},
     "output_type": "display_data"
    },
    {
     "data": {
      "text/latex": [
       "$\\displaystyle y = \\left(C_{1} + C_{2} t\\right) e^{6 t}$"
      ],
      "text/plain": [
       "<IPython.core.display.Math object>"
      ]
     },
     "metadata": {},
     "output_type": "display_data"
    },
    {
     "data": {
      "text/latex": [
       "$\\displaystyle \\text{Compute the Wronskian determinant}$"
      ],
      "text/plain": [
       "<IPython.core.display.Math object>"
      ]
     },
     "metadata": {},
     "output_type": "display_data"
    },
    {
     "data": {
      "text/latex": [
       "$\\displaystyle W = \\left|{\\left[\\begin{matrix}e^{6 t} & t e^{6 t}\\\\6 e^{6 t} & 6 t e^{6 t} + e^{6 t}\\end{matrix}\\right]}\\right| = e^{12 t}$"
      ],
      "text/plain": [
       "<IPython.core.display.Math object>"
      ]
     },
     "metadata": {},
     "output_type": "display_data"
    },
    {
     "data": {
      "text/latex": [
       "$\\displaystyle \\text{Compute }W_i$"
      ],
      "text/plain": [
       "<IPython.core.display.Math object>"
      ]
     },
     "metadata": {},
     "output_type": "display_data"
    },
    {
     "data": {
      "text/latex": [
       "$\\displaystyle \\begin{align*}&W_{1} = \\left|{\\left[\\begin{matrix}0 & t e^{6 t}\\\\1 & 6 t e^{6 t} + e^{6 t}\\end{matrix}\\right]}\\right| = - t e^{6 t}\\\\&W_{2} = \\left|{\\left[\\begin{matrix}e^{6 t} & 0\\\\6 e^{6 t} & 1\\end{matrix}\\right]}\\right| = e^{6 t}\\\\\\end{align*}$"
      ],
      "text/plain": [
       "<IPython.core.display.Math object>"
      ]
     },
     "metadata": {},
     "output_type": "display_data"
    },
    {
     "data": {
      "text/latex": [
       "$\\displaystyle \\text{Calculate and simplify }\\frac{g(t)}{W(t)}$"
      ],
      "text/plain": [
       "<IPython.core.display.Math object>"
      ]
     },
     "metadata": {},
     "output_type": "display_data"
    },
    {
     "data": {
      "text/latex": [
       "$\\displaystyle \\frac{14 t^{2} + \\frac{e^{6 t}}{t^{2}}}{e^{12 t}} = \\frac{e^{- 12 t}}{t^{2}} \\left(14 t^{4} + e^{6 t}\\right)$"
      ],
      "text/plain": [
       "<IPython.core.display.Math object>"
      ]
     },
     "metadata": {},
     "output_type": "display_data"
    },
    {
     "data": {
      "text/latex": [
       "$\\displaystyle \\text{Compute }\\mu_i = \\int \\frac{g(t)W_i(t)}{W(t)} dt$"
      ],
      "text/plain": [
       "<IPython.core.display.Math object>"
      ]
     },
     "metadata": {},
     "output_type": "display_data"
    },
    {
     "data": {
      "text/latex": [
       "$\\displaystyle \\begin{align*}&\\mu_{1} = \\int \\left(- 14 t^{3} e^{- 6 t} - \\frac{1}{t}\\right)\\, dt = \\frac{e^{- 6 t}}{108} \\left(252 t^{3} + 126 t^{2} + 42 t + 7\\right) - \\ln{\\left (t \\right )}\\\\&\\mu_{2} = \\int \\left(14 t^{2} e^{- 6 t} + \\frac{1}{t^{2}}\\right)\\, dt = \\frac{e^{- 6 t}}{54} \\left(- 126 t^{2} - 42 t - 7\\right) - \\frac{1}{t}\\\\\\end{align*}$"
      ],
      "text/plain": [
       "<IPython.core.display.Math object>"
      ]
     },
     "metadata": {},
     "output_type": "display_data"
    },
    {
     "data": {
      "text/latex": [
       "$\\displaystyle \\text{Compute the sum }\\sum_{i=1}^{k} y_i \\int \\frac{g(t)W_i(t)}{W(t)} dt$"
      ],
      "text/plain": [
       "<IPython.core.display.Math object>"
      ]
     },
     "metadata": {},
     "output_type": "display_data"
    },
    {
     "data": {
      "text/latex": [
       "$\\displaystyle \\begin{align*}&y_{p} = t \\left(\\frac{e^{- 6 t}}{54} \\left(- 126 t^{2} - 42 t - 7\\right) - \\frac{1}{t}\\right) e^{6 t} + \\left(\\frac{e^{- 6 t}}{108} \\left(252 t^{3} + 126 t^{2} + 42 t + 7\\right) - \\ln{\\left (t \\right )}\\right) e^{6 t}\\\\&y_{p} = \\frac{7 t^{2}}{18} + \\frac{7 t}{27} - e^{6 t} \\ln{\\left (t \\right )} - e^{6 t} + \\frac{7}{108}\\\\\\end{align*}$"
      ],
      "text/plain": [
       "<IPython.core.display.Math object>"
      ]
     },
     "metadata": {},
     "output_type": "display_data"
    },
    {
     "data": {
      "text/latex": [
       "$\\displaystyle \\text{Complementray + particular = general}$"
      ],
      "text/plain": [
       "<IPython.core.display.Math object>"
      ]
     },
     "metadata": {},
     "output_type": "display_data"
    },
    {
     "data": {
      "text/latex": [
       "$\\displaystyle y = C_{2} t e^{6 t} + \\frac{7 t^{2}}{18} + \\frac{7 t}{27} + \\left(C_{1} - \\ln{\\left (t \\right )}\\right) e^{6 t} + \\frac{7}{108}$"
      ],
      "text/plain": [
       "<IPython.core.display.Math object>"
      ]
     },
     "metadata": {},
     "output_type": "display_data"
    }
   ],
   "source": [
    "yc, p = nth_order_const_coeff(1, -12, 36)\n",
    "p.display()\n",
    "yp, p = variation_of_parameters(yc, t ** (-2) * exp(6 * t) + 14 * t ** 2)\n",
    "p.display()"
   ]
  },
  {
   "cell_type": "code",
   "execution_count": null,
   "metadata": {},
   "outputs": [],
   "source": []
  }
 ],
 "metadata": {
  "kernelspec": {
   "display_name": "Python 3",
   "language": "python",
   "name": "python3"
  },
  "language_info": {
   "codemirror_mode": {
    "name": "ipython",
    "version": 3
   },
   "file_extension": ".py",
   "mimetype": "text/x-python",
   "name": "python",
   "nbconvert_exporter": "python",
   "pygments_lexer": "ipython3",
   "version": "3.6.8"
  }
 },
 "nbformat": 4,
 "nbformat_minor": 2
}
