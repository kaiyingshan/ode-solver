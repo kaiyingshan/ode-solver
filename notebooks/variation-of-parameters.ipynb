{
 "cells": [
  {
   "cell_type": "code",
   "execution_count": 1,
   "metadata": {},
   "outputs": [],
   "source": [
    "import os\n",
    "import sys\n",
    "module_path = os.path.abspath(os.path.join('..'))\n",
    "if module_path not in sys.path:\n",
    "    sys.path.append(module_path)\n",
    "from sympy import *\n",
    "init_printing()\n",
    "from root.solver import *"
   ]
  },
  {
   "cell_type": "code",
   "execution_count": 2,
   "metadata": {},
   "outputs": [
    {
     "data": {
      "text/latex": [
       "$\\displaystyle \\text{Characteristic equation:}$"
      ],
      "text/plain": [
       "<IPython.core.display.Math object>"
      ]
     },
     "metadata": {},
     "output_type": "display_data"
    },
    {
     "data": {
      "text/latex": [
       "$\\displaystyle r^{2} + 1 = 0$"
      ],
      "text/plain": [
       "<IPython.core.display.Math object>"
      ]
     },
     "metadata": {},
     "output_type": "display_data"
    },
    {
     "data": {
      "text/latex": [
       "$\\displaystyle \\text{Roots: }$"
      ],
      "text/plain": [
       "<IPython.core.display.Math object>"
      ]
     },
     "metadata": {},
     "output_type": "display_data"
    },
    {
     "data": {
      "text/latex": [
       "$\\displaystyle r_{1} = i$"
      ],
      "text/plain": [
       "<IPython.core.display.Math object>"
      ]
     },
     "metadata": {},
     "output_type": "display_data"
    },
    {
     "data": {
      "text/latex": [
       "$\\displaystyle r_{2} = - i$"
      ],
      "text/plain": [
       "<IPython.core.display.Math object>"
      ]
     },
     "metadata": {},
     "output_type": "display_data"
    },
    {
     "data": {
      "text/latex": [
       "$\\displaystyle \\text{General Solution}$"
      ],
      "text/plain": [
       "<IPython.core.display.Math object>"
      ]
     },
     "metadata": {},
     "output_type": "display_data"
    },
    {
     "data": {
      "text/latex": [
       "$\\displaystyle y = C_{1} \\sin{\\left (t \\right )} + C_{2} \\cos{\\left (t \\right )}$"
      ],
      "text/plain": [
       "<IPython.core.display.Math object>"
      ]
     },
     "metadata": {},
     "output_type": "display_data"
    },
    {
     "data": {
      "text/latex": [
       "$\\displaystyle \\text{Compute the Wronskian determinant}$"
      ],
      "text/plain": [
       "<IPython.core.display.Math object>"
      ]
     },
     "metadata": {},
     "output_type": "display_data"
    },
    {
     "data": {
      "text/latex": [
       "$\\displaystyle W = \\left|{\\left[\\begin{matrix}\\sin{\\left (t \\right )} & \\cos{\\left (t \\right )}\\\\\\cos{\\left (t \\right )} & - \\sin{\\left (t \\right )}\\end{matrix}\\right]}\\right| = -1$"
      ],
      "text/plain": [
       "<IPython.core.display.Math object>"
      ]
     },
     "metadata": {},
     "output_type": "display_data"
    },
    {
     "data": {
      "text/latex": [
       "$\\displaystyle \\text{Compute } W_i$"
      ],
      "text/plain": [
       "<IPython.core.display.Math object>"
      ]
     },
     "metadata": {},
     "output_type": "display_data"
    },
    {
     "data": {
      "text/latex": [
       "$\\displaystyle W_{1} = \\left|{\\left[\\begin{matrix}0 & \\cos{\\left (t \\right )}\\\\1 & - \\sin{\\left (t \\right )}\\end{matrix}\\right]}\\right| = - \\cos{\\left (t \\right )}$"
      ],
      "text/plain": [
       "<IPython.core.display.Math object>"
      ]
     },
     "metadata": {},
     "output_type": "display_data"
    },
    {
     "data": {
      "text/latex": [
       "$\\displaystyle W_{2} = \\left|{\\left[\\begin{matrix}\\sin{\\left (t \\right )} & 0\\\\\\cos{\\left (t \\right )} & 1\\end{matrix}\\right]}\\right| = \\sin{\\left (t \\right )}$"
      ],
      "text/plain": [
       "<IPython.core.display.Math object>"
      ]
     },
     "metadata": {},
     "output_type": "display_data"
    },
    {
     "data": {
      "text/latex": [
       "$\\displaystyle \\text{Calculate and simplify} \\frac{g(t)}{W(t)}$"
      ],
      "text/plain": [
       "<IPython.core.display.Math object>"
      ]
     },
     "metadata": {},
     "output_type": "display_data"
    },
    {
     "data": {
      "text/latex": [
       "$\\displaystyle \\frac{1}{-1} \\left(\\tan{\\left (t \\right )} + \\sec{\\left (t \\right )}\\right) = - \\tan{\\left (t \\right )} - \\frac{1}{\\cos{\\left (t \\right )}}$"
      ],
      "text/plain": [
       "<IPython.core.display.Math object>"
      ]
     },
     "metadata": {},
     "output_type": "display_data"
    },
    {
     "data": {
      "text/latex": [
       "$\\displaystyle \\text{Compute } \\int \\frac{g(t)W_i(t)}{W(t)} dt$"
      ],
      "text/plain": [
       "<IPython.core.display.Math object>"
      ]
     },
     "metadata": {},
     "output_type": "display_data"
    },
    {
     "data": {
      "text/latex": [
       "$\\displaystyle \\int \\left(- \\left(- \\tan{\\left (t \\right )} - \\frac{1}{\\cos{\\left (t \\right )}}\\right) \\cos{\\left (t \\right )}\\right)\\, dt = t - \\cos{\\left (t \\right )}$"
      ],
      "text/plain": [
       "<IPython.core.display.Math object>"
      ]
     },
     "metadata": {},
     "output_type": "display_data"
    },
    {
     "data": {
      "text/latex": [
       "$\\displaystyle \\int \\left(- \\tan{\\left (t \\right )} - \\frac{1}{\\cos{\\left (t \\right )}}\\right) \\sin{\\left (t \\right )}\\, dt = \\frac{1}{2} \\ln{\\left (\\sin{\\left (t \\right )} - 1 \\right )} - \\frac{1}{2} \\ln{\\left (\\sin{\\left (t \\right )} + 1 \\right )} + \\ln{\\left (\\cos{\\left (t \\right )} \\right )} + \\sin{\\left (t \\right )}$"
      ],
      "text/plain": [
       "<IPython.core.display.Math object>"
      ]
     },
     "metadata": {},
     "output_type": "display_data"
    },
    {
     "data": {
      "text/latex": [
       "$\\displaystyle \\text{Compute the sum } \\sum_{i=1}^{k} y_i \\int \\frac{g(t)W_i(t)}{W(t)} dt$"
      ],
      "text/plain": [
       "<IPython.core.display.Math object>"
      ]
     },
     "metadata": {},
     "output_type": "display_data"
    },
    {
     "data": {
      "text/latex": [
       "$\\displaystyle \\left(t - \\cos{\\left (t \\right )}\\right) \\sin{\\left (t \\right )} + \\left(\\frac{1}{2} \\ln{\\left (\\sin{\\left (t \\right )} - 1 \\right )} - \\frac{1}{2} \\ln{\\left (\\sin{\\left (t \\right )} + 1 \\right )} + \\ln{\\left (\\cos{\\left (t \\right )} \\right )} + \\sin{\\left (t \\right )}\\right) \\cos{\\left (t \\right )} = t \\sin{\\left (t \\right )} + \\frac{\\cos{\\left (t \\right )}}{2} \\ln{\\left (\\sin{\\left (t \\right )} - 1 \\right )} - \\frac{\\cos{\\left (t \\right )}}{2} \\ln{\\left (\\sin{\\left (t \\right )} + 1 \\right )} + \\ln{\\left (\\cos{\\left (t \\right )} \\right )} \\cos{\\left (t \\right )}$"
      ],
      "text/plain": [
       "<IPython.core.display.Math object>"
      ]
     },
     "metadata": {},
     "output_type": "display_data"
    },
    {
     "data": {
      "image/png": "[encoded data removed]",
      "text/latex": [
       "$$C_{1} \\sin{\\left (t \\right )} + C_{2} \\cos{\\left (t \\right )} + t \\sin{\\left (t \\right )} + \\frac{\\log{\\left (\\sin{\\left (t \\right )} - 1 \\right )} \\cos{\\left (t \\right )}}{2} - \\frac{\\log{\\left (\\sin{\\left (t \\right )} + 1 \\right )} \\cos{\\left (t \\right )}}{2} + \\log{\\left (\\cos{\\left (t \\right )} \\right )} \\cos{\\left (t \\right )}$$"
      ],
      "text/plain": [
       "                                   log(sin(t) - 1)⋅cos(t)   log(sin(t) + 1)⋅co\n",
       "C₁⋅sin(t) + C₂⋅cos(t) + t⋅sin(t) + ────────────────────── - ──────────────────\n",
       "                                             2                        2       \n",
       "\n",
       "s(t)                     \n",
       "──── + log(cos(t))⋅cos(t)\n",
       "                         "
      ]
     },
     "metadata": {},
     "output_type": "display_data"
    }
   ],
   "source": [
    "yc, p = nth_order_const_coeff(1, 0, 1)\n",
    "display_procedure(p)\n",
    "yp, p = variation_of_parameters(yc, sec(t) + tan(t))\n",
    "display_procedure(p)\n",
    "display(to_general(yc, yp)[0])"
   ]
  },
  {
   "cell_type": "code",
   "execution_count": 3,
   "metadata": {},
   "outputs": [
    {
     "data": {
      "text/latex": [
       "$\\displaystyle \\text{Characteristic equation:}$"
      ],
      "text/plain": [
       "<IPython.core.display.Math object>"
      ]
     },
     "metadata": {},
     "output_type": "display_data"
    },
    {
     "data": {
      "text/latex": [
       "$\\displaystyle r^{2} - 12 r + 36 = 0$"
      ],
      "text/plain": [
       "<IPython.core.display.Math object>"
      ]
     },
     "metadata": {},
     "output_type": "display_data"
    },
    {
     "data": {
      "text/latex": [
       "$\\displaystyle \\text{Roots: }$"
      ],
      "text/plain": [
       "<IPython.core.display.Math object>"
      ]
     },
     "metadata": {},
     "output_type": "display_data"
    },
    {
     "data": {
      "text/latex": [
       "$\\displaystyle r_{1,2} = 6$"
      ],
      "text/plain": [
       "<IPython.core.display.Math object>"
      ]
     },
     "metadata": {},
     "output_type": "display_data"
    },
    {
     "data": {
      "text/latex": [
       "$\\displaystyle \\text{General Solution}$"
      ],
      "text/plain": [
       "<IPython.core.display.Math object>"
      ]
     },
     "metadata": {},
     "output_type": "display_data"
    },
    {
     "data": {
      "text/latex": [
       "$\\displaystyle y = \\left(C_{1} + C_{2} t\\right) e^{6 t}$"
      ],
      "text/plain": [
       "<IPython.core.display.Math object>"
      ]
     },
     "metadata": {},
     "output_type": "display_data"
    },
    {
     "data": {
      "text/latex": [
       "$\\displaystyle \\text{Compute the Wronskian determinant}$"
      ],
      "text/plain": [
       "<IPython.core.display.Math object>"
      ]
     },
     "metadata": {},
     "output_type": "display_data"
    },
    {
     "data": {
      "text/latex": [
       "$\\displaystyle W = \\left|{\\left[\\begin{matrix}e^{6 t} & t e^{6 t}\\\\6 e^{6 t} & 6 t e^{6 t} + e^{6 t}\\end{matrix}\\right]}\\right| = e^{12 t}$"
      ],
      "text/plain": [
       "<IPython.core.display.Math object>"
      ]
     },
     "metadata": {},
     "output_type": "display_data"
    },
    {
     "data": {
      "text/latex": [
       "$\\displaystyle \\text{Compute } W_i$"
      ],
      "text/plain": [
       "<IPython.core.display.Math object>"
      ]
     },
     "metadata": {},
     "output_type": "display_data"
    },
    {
     "data": {
      "text/latex": [
       "$\\displaystyle W_{1} = \\left|{\\left[\\begin{matrix}0 & t e^{6 t}\\\\1 & 6 t e^{6 t} + e^{6 t}\\end{matrix}\\right]}\\right| = - t e^{6 t}$"
      ],
      "text/plain": [
       "<IPython.core.display.Math object>"
      ]
     },
     "metadata": {},
     "output_type": "display_data"
    },
    {
     "data": {
      "text/latex": [
       "$\\displaystyle W_{2} = \\left|{\\left[\\begin{matrix}e^{6 t} & 0\\\\6 e^{6 t} & 1\\end{matrix}\\right]}\\right| = e^{6 t}$"
      ],
      "text/plain": [
       "<IPython.core.display.Math object>"
      ]
     },
     "metadata": {},
     "output_type": "display_data"
    },
    {
     "data": {
      "text/latex": [
       "$\\displaystyle \\text{Calculate and simplify} \\frac{g(t)}{W(t)}$"
      ],
      "text/plain": [
       "<IPython.core.display.Math object>"
      ]
     },
     "metadata": {},
     "output_type": "display_data"
    },
    {
     "data": {
      "text/latex": [
       "$\\displaystyle \\frac{14 t^{2} + \\frac{e^{6 t}}{t^{2}}}{e^{12 t}} = \\frac{e^{- 12 t}}{t^{2}} \\left(14 t^{4} + e^{6 t}\\right)$"
      ],
      "text/plain": [
       "<IPython.core.display.Math object>"
      ]
     },
     "metadata": {},
     "output_type": "display_data"
    },
    {
     "data": {
      "text/latex": [
       "$\\displaystyle \\text{Compute } \\int \\frac{g(t)W_i(t)}{W(t)} dt$"
      ],
      "text/plain": [
       "<IPython.core.display.Math object>"
      ]
     },
     "metadata": {},
     "output_type": "display_data"
    },
    {
     "data": {
      "text/latex": [
       "$\\displaystyle \\int \\left(- \\frac{e^{- 6 t}}{t} \\left(14 t^{4} + e^{6 t}\\right)\\right)\\, dt = \\frac{e^{- 6 t}}{108} \\left(252 t^{3} + 126 t^{2} + 42 t + 7\\right) - \\ln{\\left (t \\right )}$"
      ],
      "text/plain": [
       "<IPython.core.display.Math object>"
      ]
     },
     "metadata": {},
     "output_type": "display_data"
    },
    {
     "data": {
      "text/latex": [
       "$\\displaystyle \\int \\frac{e^{- 6 t}}{t^{2}} \\left(14 t^{4} + e^{6 t}\\right)\\, dt = \\frac{e^{- 6 t}}{54} \\left(- 126 t^{2} - 42 t - 7\\right) - \\frac{1}{t}$"
      ],
      "text/plain": [
       "<IPython.core.display.Math object>"
      ]
     },
     "metadata": {},
     "output_type": "display_data"
    },
    {
     "data": {
      "text/latex": [
       "$\\displaystyle \\text{Compute the sum } \\sum_{i=1}^{k} y_i \\int \\frac{g(t)W_i(t)}{W(t)} dt$"
      ],
      "text/plain": [
       "<IPython.core.display.Math object>"
      ]
     },
     "metadata": {},
     "output_type": "display_data"
    },
    {
     "data": {
      "text/latex": [
       "$\\displaystyle t \\left(\\frac{e^{- 6 t}}{54} \\left(- 126 t^{2} - 42 t - 7\\right) - \\frac{1}{t}\\right) e^{6 t} + \\left(\\frac{e^{- 6 t}}{108} \\left(252 t^{3} + 126 t^{2} + 42 t + 7\\right) - \\ln{\\left (t \\right )}\\right) e^{6 t} = \\frac{7 t^{2}}{18} + \\frac{7 t}{27} - e^{6 t} \\ln{\\left (t \\right )} - e^{6 t} + \\frac{7}{108}$"
      ],
      "text/plain": [
       "<IPython.core.display.Math object>"
      ]
     },
     "metadata": {},
     "output_type": "display_data"
    }
   ],
   "source": [
    "yc, p = nth_order_const_coeff(1, -12, 36)\n",
    "display_procedure(p)\n",
    "yp, p = variation_of_parameters(yc, t ** (-2) * exp(6 * t) + 14 * t ** 2)\n",
    "display_procedure(p)"
   ]
  }
 ],
 "metadata": {
  "kernelspec": {
   "display_name": "Python 3",
   "language": "python",
   "name": "python3"
  },
  "language_info": {
   "codemirror_mode": {
    "name": "ipython",
    "version": 3
   },
   "file_extension": ".py",
   "mimetype": "text/x-python",
   "name": "python",
   "nbconvert_exporter": "python",
   "pygments_lexer": "ipython3",
   "version": "3.6.8"
  }
 },
 "nbformat": 4,
 "nbformat_minor": 2
}
