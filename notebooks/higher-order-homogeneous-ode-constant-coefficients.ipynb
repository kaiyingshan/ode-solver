{
 "cells": [
  {
   "cell_type": "code",
   "execution_count": 1,
   "metadata": {},
   "outputs": [],
   "source": [
    "import loader\n",
    "from sympy import *\n",
    "init_printing()\n",
    "from root.solver import *"
   ]
  },
  {
   "cell_type": "markdown",
   "metadata": {},
   "source": [
    "#### Find the general solution of  $y^{(4)} - 4y''' + 4y'' = 0$"
   ]
  },
  {
   "cell_type": "code",
   "execution_count": 2,
   "metadata": {},
   "outputs": [
    {
     "data": {
      "text/latex": [
       "$\\displaystyle \\text{Characteristic equation: }$"
      ],
      "text/plain": [
       "<IPython.core.display.Math object>"
      ]
     },
     "metadata": {},
     "output_type": "display_data"
    },
    {
     "data": {
      "text/latex": [
       "$\\displaystyle r^{4} - 4 r^{3} + 4 r^{2} = 0$"
      ],
      "text/plain": [
       "<IPython.core.display.Math object>"
      ]
     },
     "metadata": {},
     "output_type": "display_data"
    },
    {
     "data": {
      "text/latex": [
       "$\\displaystyle \\text{Roots: }\\left\\{ \\begin{array}{ll}r_{1,2} = 0\\\\r_{3,4} = 2\\\\\\end{array} \\right.$"
      ],
      "text/plain": [
       "<IPython.core.display.Math object>"
      ]
     },
     "metadata": {},
     "output_type": "display_data"
    },
    {
     "data": {
      "text/latex": [
       "$\\displaystyle \\text{General Solution: }$"
      ],
      "text/plain": [
       "<IPython.core.display.Math object>"
      ]
     },
     "metadata": {},
     "output_type": "display_data"
    },
    {
     "data": {
      "text/latex": [
       "$\\displaystyle y = C_{1} + C_{2} t + C_{3} e^{2 t} + C_{4} t e^{2 t}$"
      ],
      "text/plain": [
       "<IPython.core.display.Math object>"
      ]
     },
     "metadata": {},
     "output_type": "display_data"
    }
   ],
   "source": [
    "yc, p = nth_order_const_coeff(1, -4, 4, 0, 0)\n",
    "p.display()"
   ]
  },
  {
   "cell_type": "markdown",
   "metadata": {},
   "source": [
    "#### Find the general solution of  $y^{(6)} + y = 0$"
   ]
  },
  {
   "cell_type": "code",
   "execution_count": 3,
   "metadata": {},
   "outputs": [
    {
     "data": {
      "text/latex": [
       "$\\displaystyle \\text{Characteristic equation: }$"
      ],
      "text/plain": [
       "<IPython.core.display.Math object>"
      ]
     },
     "metadata": {},
     "output_type": "display_data"
    },
    {
     "data": {
      "text/latex": [
       "$\\displaystyle r^{6} + 1 = 0$"
      ],
      "text/plain": [
       "<IPython.core.display.Math object>"
      ]
     },
     "metadata": {},
     "output_type": "display_data"
    },
    {
     "data": {
      "text/latex": [
       "$\\displaystyle \\text{Roots: }\\left\\{ \\begin{array}{ll}r_{1} = i\\\\r_{2} = - i\\\\r_{3} = - \\frac{\\sqrt{3}}{2} - \\frac{i}{2}\\\\r_{4} = - \\frac{\\sqrt{3}}{2} + \\frac{i}{2}\\\\r_{5} = \\frac{\\sqrt{3}}{2} - \\frac{i}{2}\\\\r_{6} = \\frac{\\sqrt{3}}{2} + \\frac{i}{2}\\\\\\end{array} \\right.$"
      ],
      "text/plain": [
       "<IPython.core.display.Math object>"
      ]
     },
     "metadata": {},
     "output_type": "display_data"
    },
    {
     "data": {
      "text/latex": [
       "$\\displaystyle \\text{General Solution: }$"
      ],
      "text/plain": [
       "<IPython.core.display.Math object>"
      ]
     },
     "metadata": {},
     "output_type": "display_data"
    },
    {
     "data": {
      "text/latex": [
       "$\\displaystyle y = C_{1} \\sin{\\left(t \\right)} + C_{2} \\cos{\\left(t \\right)} + C_{3} e^{- \\frac{\\sqrt{3} t}{2}} \\sin{\\left(\\frac{t}{2} \\right)} + C_{4} e^{- \\frac{\\sqrt{3} t}{2}} \\cos{\\left(\\frac{t}{2} \\right)} + C_{5} e^{\\frac{\\sqrt{3} t}{2}} \\sin{\\left(\\frac{t}{2} \\right)} + C_{6} e^{\\frac{\\sqrt{3} t}{2}} \\cos{\\left(\\frac{t}{2} \\right)}$"
      ],
      "text/plain": [
       "<IPython.core.display.Math object>"
      ]
     },
     "metadata": {},
     "output_type": "display_data"
    }
   ],
   "source": [
    "yc, p = nth_order_const_coeff(1, 0, 0, 0, 0, 0, 1)\n",
    "p.display()"
   ]
  }
 ],
 "metadata": {
  "kernelspec": {
   "display_name": "Python 3",
   "language": "python",
   "name": "python3"
  },
  "language_info": {
   "codemirror_mode": {
    "name": "ipython",
    "version": 3
   },
   "file_extension": ".py",
   "mimetype": "text/x-python",
   "name": "python",
   "nbconvert_exporter": "python",
   "pygments_lexer": "ipython3",
   "version": "3.6.8"
  }
 },
 "nbformat": 4,
 "nbformat_minor": 2
}
