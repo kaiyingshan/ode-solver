{
 "cells": [
  {
   "cell_type": "code",
   "execution_count": 1,
   "metadata": {},
   "outputs": [],
   "source": [
    "import os\n",
    "import sys\n",
    "module_path = os.path.abspath(os.path.join('..'))\n",
    "if module_path not in sys.path:\n",
    "    sys.path.append(module_path)\n",
    "from sympy import *\n",
    "init_printing()\n",
    "from root.solver import *"
   ]
  },
  {
   "cell_type": "code",
   "execution_count": 2,
   "metadata": {
    "scrolled": false
   },
   "outputs": [
    {
     "data": {
      "text/latex": [
       "$\\displaystyle \\text{Characteristic equation: }$"
      ],
      "text/plain": [
       "<IPython.core.display.Math object>"
      ]
     },
     "metadata": {},
     "output_type": "display_data"
    },
    {
     "data": {
      "text/latex": [
       "$\\displaystyle r^{2} + 2 r + 5 = 0$"
      ],
      "text/plain": [
       "<IPython.core.display.Math object>"
      ]
     },
     "metadata": {},
     "output_type": "display_data"
    },
    {
     "data": {
      "text/latex": [
       "$\\displaystyle \\text{Roots: }\\left\\{ \\begin{array}{ll}r_{1} = -1 - 2 i\\\\r_{2} = -1 + 2 i\\\\\\end{array} \\right.$"
      ],
      "text/plain": [
       "<IPython.core.display.Math object>"
      ]
     },
     "metadata": {},
     "output_type": "display_data"
    },
    {
     "data": {
      "text/latex": [
       "$\\displaystyle \\text{General Solution: }$"
      ],
      "text/plain": [
       "<IPython.core.display.Math object>"
      ]
     },
     "metadata": {},
     "output_type": "display_data"
    },
    {
     "data": {
      "text/latex": [
       "$\\displaystyle y = \\left(C_{1} \\sin{\\left (2 t \\right )} + C_{2} \\cos{\\left (2 t \\right )}\\right) e^{- t}$"
      ],
      "text/plain": [
       "<IPython.core.display.Math object>"
      ]
     },
     "metadata": {},
     "output_type": "display_data"
    },
    {
     "data": {
      "text/latex": [
       "$\\displaystyle \\text{Find }Y(t)\\text{ that mimics the form of }g(t)$"
      ],
      "text/plain": [
       "<IPython.core.display.Math object>"
      ]
     },
     "metadata": {},
     "output_type": "display_data"
    },
    {
     "data": {
      "text/latex": [
       "$\\displaystyle Y{\\left (t \\right )} = A_{0} + A_{1} \\sin{\\left (2 t \\right )} + A_{2} \\cos{\\left (2 t \\right )}$"
      ],
      "text/plain": [
       "<IPython.core.display.Math object>"
      ]
     },
     "metadata": {},
     "output_type": "display_data"
    },
    {
     "data": {
      "text/latex": [
       "$\\displaystyle \\text{Compute successive derivatives of }Y(t)$"
      ],
      "text/plain": [
       "<IPython.core.display.Math object>"
      ]
     },
     "metadata": {},
     "output_type": "display_data"
    },
    {
     "data": {
      "text/latex": [
       "$\\displaystyle \\begin{align*}&Y{\\left (t \\right )} = A_{0} + A_{1} \\sin{\\left (2 t \\right )} + A_{2} \\cos{\\left (2 t \\right )}\\\\&\\frac{d}{d t} Y{\\left (t \\right )} = 2 A_{1} \\cos{\\left (2 t \\right )} - 2 A_{2} \\sin{\\left (2 t \\right )}\\\\&\\frac{d^{2}}{d t^{2}} Y{\\left (t \\right )} = - 4 A_{1} \\sin{\\left (2 t \\right )} - 4 A_{2} \\cos{\\left (2 t \\right )}\\\\\\end{align*}$"
      ],
      "text/plain": [
       "<IPython.core.display.Math object>"
      ]
     },
     "metadata": {},
     "output_type": "display_data"
    },
    {
     "data": {
      "text/latex": [
       "$\\displaystyle \\text{Plug the derivatives into the LHS and equate coefficients}$"
      ],
      "text/plain": [
       "<IPython.core.display.Math object>"
      ]
     },
     "metadata": {},
     "output_type": "display_data"
    },
    {
     "data": {
      "text/latex": [
       "$\\displaystyle \\begin{align*}&5 A_{0} + A_{1} \\sin{\\left (2 t \\right )} + 4 A_{1} \\cos{\\left (2 t \\right )} - 4 A_{2} \\sin{\\left (2 t \\right )} + A_{2} \\cos{\\left (2 t \\right )} = F \\sin{\\left (2 t \\right )} + F\\\\&5 A_{0} + A_{1} \\sin{\\left (2 t \\right )} + 4 A_{1} \\cos{\\left (2 t \\right )} - 4 A_{2} \\sin{\\left (2 t \\right )} + A_{2} \\cos{\\left (2 t \\right )} = F \\sin{\\left (2 t \\right )} + F\\\\\\end{align*}$"
      ],
      "text/plain": [
       "<IPython.core.display.Math object>"
      ]
     },
     "metadata": {},
     "output_type": "display_data"
    },
    {
     "data": {
      "text/latex": [
       "$\\displaystyle \\left\\{ \\begin{array}{ll}5 A_{0} - F = 0\\\\A_{1} - 4 A_{2} - F = 0\\\\4 A_{1} + A_{2} = 0\\\\\\end{array} \\right.$"
      ],
      "text/plain": [
       "<IPython.core.display.Math object>"
      ]
     },
     "metadata": {},
     "output_type": "display_data"
    },
    {
     "data": {
      "text/latex": [
       "$\\displaystyle \\text{Solve for the undetermined coefficients}$"
      ],
      "text/plain": [
       "<IPython.core.display.Math object>"
      ]
     },
     "metadata": {},
     "output_type": "display_data"
    },
    {
     "data": {
      "text/latex": [
       "$\\displaystyle \\left\\{ \\begin{array}{ll}A_{0} = \\frac{F}{5}\\\\A_{1} = \\frac{F}{17}\\\\A_{2} = - \\frac{4 F}{17}\\\\\\end{array} \\right.$"
      ],
      "text/plain": [
       "<IPython.core.display.Math object>"
      ]
     },
     "metadata": {},
     "output_type": "display_data"
    },
    {
     "data": {
      "text/latex": [
       "$\\displaystyle \\text{Substitute the coefficients to get the particular solution}$"
      ],
      "text/plain": [
       "<IPython.core.display.Math object>"
      ]
     },
     "metadata": {},
     "output_type": "display_data"
    },
    {
     "data": {
      "text/latex": [
       "$\\displaystyle y_{p} = \\frac{F}{17} \\sin{\\left (2 t \\right )} - \\frac{4 F}{17} \\cos{\\left (2 t \\right )} + \\frac{F}{5}$"
      ],
      "text/plain": [
       "<IPython.core.display.Math object>"
      ]
     },
     "metadata": {},
     "output_type": "display_data"
    },
    {
     "data": {
      "image/png": "[encoded data removed]",
      "text/latex": [
       "$$C_{1} e^{- t} \\sin{\\left (2 t \\right )} + C_{2} e^{- t} \\cos{\\left (2 t \\right )} + \\frac{F \\sin{\\left (2 t \\right )}}{17} - \\frac{4 F \\cos{\\left (2 t \\right )}}{17} + \\frac{F}{5}$$"
      ],
      "text/plain": [
       "    -t                -t            F⋅sin(2⋅t)   4⋅F⋅cos(2⋅t)   F\n",
       "C₁⋅ℯ  ⋅sin(2⋅t) + C₂⋅ℯ  ⋅cos(2⋅t) + ────────── - ──────────── + ─\n",
       "                                        17            17        5"
      ]
     },
     "execution_count": 2,
     "metadata": {},
     "output_type": "execute_result"
    }
   ],
   "source": [
    "F = Symbol('F', real=True)\n",
    "coeffs = 1, 2, 5\n",
    "m, b, k = coeffs\n",
    "yc, p = nth_order_const_coeff(*coeffs)\n",
    "p.display()\n",
    "\n",
    "# this is better solve by undetermined coefficients.\n",
    "yp, p = undetermined_coefficients(yc, coeffs, F*sin(2 * t) + F)\n",
    "p.display()\n",
    "to_general(yc, yp)[0]"
   ]
  },
  {
   "cell_type": "code",
   "execution_count": null,
   "metadata": {},
   "outputs": [],
   "source": []
  }
 ],
 "metadata": {
  "kernelspec": {
   "display_name": "Python 3",
   "language": "python",
   "name": "python3"
  },
  "language_info": {
   "codemirror_mode": {
    "name": "ipython",
    "version": 3
   },
   "file_extension": ".py",
   "mimetype": "text/x-python",
   "name": "python",
   "nbconvert_exporter": "python",
   "pygments_lexer": "ipython3",
   "version": "3.6.8"
  }
 },
 "nbformat": 4,
 "nbformat_minor": 2
}
