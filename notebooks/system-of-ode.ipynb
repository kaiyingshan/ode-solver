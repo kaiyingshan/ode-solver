{
 "cells": [
  {
   "cell_type": "code",
   "execution_count": 1,
   "metadata": {},
   "outputs": [],
   "source": [
    "import loader\n",
    "from sympy import *\n",
    "init_printing()\n",
    "from root.solver import *"
   ]
  },
  {
   "cell_type": "code",
   "execution_count": 2,
   "metadata": {},
   "outputs": [
    {
     "data": {
      "text/latex": [
       "$\\displaystyle \\text{Characteristic equation: }$"
      ],
      "text/plain": [
       "<IPython.core.display.Math object>"
      ]
     },
     "metadata": {},
     "output_type": "display_data"
    },
    {
     "data": {
      "text/latex": [
       "$\\displaystyle 3 \\lambda - \\left(\\lambda - 1\\right)^{3} - 5 = 0$"
      ],
      "text/plain": [
       "<IPython.core.display.Math object>"
      ]
     },
     "metadata": {},
     "output_type": "display_data"
    },
    {
     "data": {
      "text/latex": [
       "$\\displaystyle \\text{Eigenvalues and eigenvectors}$"
      ],
      "text/plain": [
       "<IPython.core.display.Math object>"
      ]
     },
     "metadata": {},
     "output_type": "display_data"
    },
    {
     "data": {
      "text/latex": [
       "$\\displaystyle \\lambda_1 = -1$"
      ],
      "text/plain": [
       "<IPython.core.display.Math object>"
      ]
     },
     "metadata": {},
     "output_type": "display_data"
    },
    {
     "data": {
      "text/latex": [
       "$\\displaystyle \\left[\\begin{matrix}2 & 1 & 1 & 0\\\\2 & 2 & -1 & 0\\\\0 & -1 & 2 & 0\\end{matrix}\\right]\\text{ ~ }\\left[\\begin{matrix}1 & 0 & \\frac{3}{2} & 0\\\\0 & 1 & -2 & 0\\\\0 & 0 & 0 & 0\\end{matrix}\\right]\\Rightarrow v = \\left[\\begin{matrix}- \\frac{3}{2}\\\\2\\\\1\\end{matrix}\\right]$"
      ],
      "text/plain": [
       "<IPython.core.display.Math object>"
      ]
     },
     "metadata": {},
     "output_type": "display_data"
    },
    {
     "data": {
      "text/latex": [
       "$\\displaystyle \\lambda_{2,3} = 2\\,\\,$"
      ],
      "text/plain": [
       "<IPython.core.display.Math object>"
      ]
     },
     "metadata": {},
     "output_type": "display_data"
    },
    {
     "data": {
      "text/latex": [
       "$\\displaystyle \\left[\\begin{matrix}-1 & 1 & 1 & 0\\\\2 & -1 & -1 & 0\\\\0 & -1 & -1 & 0\\end{matrix}\\right]\\text{ ~ }\\left[\\begin{matrix}1 & 0 & 0 & 0\\\\0 & 1 & 1 & 0\\\\0 & 0 & 0 & 0\\end{matrix}\\right]\\Rightarrow v = \\left[\\begin{matrix}0\\\\-1\\\\1\\end{matrix}\\right]$"
      ],
      "text/plain": [
       "<IPython.core.display.Math object>"
      ]
     },
     "metadata": {},
     "output_type": "display_data"
    },
    {
     "data": {
      "text/latex": [
       "$\\displaystyle \\text{Find the generalized eigenvector}\\left( M - \\lambda I \\right) w = v $"
      ],
      "text/plain": [
       "<IPython.core.display.Math object>"
      ]
     },
     "metadata": {},
     "output_type": "display_data"
    },
    {
     "data": {
      "text/latex": [
       "$\\displaystyle \\left[\\begin{matrix}-1 & 1 & 1 & 0\\\\2 & -1 & -1 & -1\\\\0 & -1 & -1 & 1\\end{matrix}\\right]\\text{ ~ }\\left[\\begin{matrix}1 & 0 & 0 & -1\\\\0 & 1 & 1 & -1\\\\0 & 0 & 0 & 0\\end{matrix}\\right]\\Rightarrow w = \\left[\\begin{matrix}-1\\\\-1\\\\0\\end{matrix}\\right]$"
      ],
      "text/plain": [
       "<IPython.core.display.Math object>"
      ]
     },
     "metadata": {},
     "output_type": "display_data"
    },
    {
     "data": {
      "text/latex": [
       "$\\displaystyle \\text{General solution: }$"
      ],
      "text/plain": [
       "<IPython.core.display.Math object>"
      ]
     },
     "metadata": {},
     "output_type": "display_data"
    },
    {
     "data": {
      "text/latex": [
       "$\\displaystyle \\vec{\\mathbf{x}} = C_{1}e^{- t}\\left[\\begin{matrix}- \\frac{3}{2}\\\\2\\\\1\\end{matrix}\\right]+C_{2}e^{2 t}\\left(\\left[\\begin{matrix}0\\\\-1\\\\1\\end{matrix}\\right]t + \\left[\\begin{matrix}-1\\\\-1\\\\0\\end{matrix}\\right]\\right)$"
      ],
      "text/plain": [
       "<IPython.core.display.Math object>"
      ]
     },
     "metadata": {},
     "output_type": "display_data"
    }
   ],
   "source": [
    "_, p = system([\n",
    "    [1, 1, 1],\n",
    "    [2, 1, -1],\n",
    "    [0, -1, 1]\n",
    "])\n",
    "p.display()"
   ]
  },
  {
   "cell_type": "code",
   "execution_count": 3,
   "metadata": {},
   "outputs": [
    {
     "data": {
      "text/latex": [
       "$\\displaystyle \\text{Characteristic equation: }$"
      ],
      "text/plain": [
       "<IPython.core.display.Math object>"
      ]
     },
     "metadata": {},
     "output_type": "display_data"
    },
    {
     "data": {
      "text/latex": [
       "$\\displaystyle \\left(\\lambda - 3\\right) \\left(\\lambda + 1\\right) + 8 = 0$"
      ],
      "text/plain": [
       "<IPython.core.display.Math object>"
      ]
     },
     "metadata": {},
     "output_type": "display_data"
    },
    {
     "data": {
      "text/latex": [
       "$\\displaystyle \\text{Eigenvalues and eigenvectors}$"
      ],
      "text/plain": [
       "<IPython.core.display.Math object>"
      ]
     },
     "metadata": {},
     "output_type": "display_data"
    },
    {
     "data": {
      "text/latex": [
       "$\\displaystyle \\lambda_1 = 1 - 2*I$"
      ],
      "text/plain": [
       "<IPython.core.display.Math object>"
      ]
     },
     "metadata": {},
     "output_type": "display_data"
    },
    {
     "data": {
      "text/latex": [
       "$\\displaystyle \\left[\\begin{matrix}2 + 2 i & -2 & 0\\\\4 & -2 + 2 i & 0\\end{matrix}\\right]\\text{ ~ }\\left[\\begin{matrix}1 & - \\frac{2 - 2 i}{4} & 0\\\\0 & 0 & 0\\end{matrix}\\right]\\Rightarrow v = \\left[\\begin{matrix}\\frac{2 - 2 i}{4}\\\\1\\end{matrix}\\right]$"
      ],
      "text/plain": [
       "<IPython.core.display.Math object>"
      ]
     },
     "metadata": {},
     "output_type": "display_data"
    },
    {
     "data": {
      "text/latex": [
       "$\\displaystyle \\text{Use Euler's formula to expand the imaginary part}$"
      ],
      "text/plain": [
       "<IPython.core.display.Math object>"
      ]
     },
     "metadata": {},
     "output_type": "display_data"
    },
    {
     "data": {
      "text/latex": [
       "$\\displaystyle \\left[\\begin{matrix}\\frac{2 - 2 i}{4}\\\\1\\end{matrix}\\right] e^{t - 2 i t} = e^{t} \\left[\\begin{matrix}\\frac{1}{4} \\left(2 - 2 i\\right) \\left(- i \\sin{\\left(2 t \\right)} + \\cos{\\left(2 t \\right)}\\right)\\\\- i \\sin{\\left(2 t \\right)} + \\cos{\\left(2 t \\right)}\\end{matrix}\\right] = e^{t}\\left( \\left[\\begin{matrix}- \\frac{\\sin{\\left(2 t \\right)}}{2} + \\frac{\\cos{\\left(2 t \\right)}}{2}\\\\\\cos{\\left(2 t \\right)}\\end{matrix}\\right] + \\left[\\begin{matrix}- \\frac{\\sin{\\left(2 t \\right)}}{2} - \\frac{\\cos{\\left(2 t \\right)}}{2}\\\\- \\sin{\\left(2 t \\right)}\\end{matrix}\\right]\\right)$"
      ],
      "text/plain": [
       "<IPython.core.display.Math object>"
      ]
     },
     "metadata": {},
     "output_type": "display_data"
    },
    {
     "data": {
      "text/latex": [
       "$\\displaystyle \\text{General solution: }$"
      ],
      "text/plain": [
       "<IPython.core.display.Math object>"
      ]
     },
     "metadata": {},
     "output_type": "display_data"
    },
    {
     "data": {
      "text/latex": [
       "$\\displaystyle \\vec{\\mathbf{x}} = e^{t}\\left(C_{1}\\left[\\begin{matrix}- \\frac{\\sin{\\left(2 t \\right)}}{2} + \\frac{\\cos{\\left(2 t \\right)}}{2}\\\\\\cos{\\left(2 t \\right)}\\end{matrix}\\right] + C_{2}\\left[\\begin{matrix}- \\frac{\\sin{\\left(2 t \\right)}}{2} - \\frac{\\cos{\\left(2 t \\right)}}{2}\\\\- \\sin{\\left(2 t \\right)}\\end{matrix}\\right]\\right)$"
      ],
      "text/plain": [
       "<IPython.core.display.Math object>"
      ]
     },
     "metadata": {},
     "output_type": "display_data"
    }
   ],
   "source": [
    "_, p = system([\n",
    "    [3, -2],\n",
    "    [4, -1]\n",
    "])\n",
    "p.display()"
   ]
  }
 ],
 "metadata": {
  "kernelspec": {
   "display_name": "Python 3",
   "language": "python",
   "name": "python3"
  },
  "language_info": {
   "codemirror_mode": {
    "name": "ipython",
    "version": 3
   },
   "file_extension": ".py",
   "mimetype": "text/x-python",
   "name": "python",
   "nbconvert_exporter": "python",
   "pygments_lexer": "ipython3",
   "version": "3.6.8"
  }
 },
 "nbformat": 4,
 "nbformat_minor": 2
}
