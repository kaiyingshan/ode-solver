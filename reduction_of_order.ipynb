{
 "cells": [
  {
   "cell_type": "code",
   "execution_count": 1,
   "metadata": {},
   "outputs": [],
   "source": [
    "from sympy import *\n",
    "init_printing()\n",
    "from root.solver import *\n",
    "from IPython.display import display"
   ]
  },
  {
   "cell_type": "code",
   "execution_count": 2,
   "metadata": {
    "scrolled": false
   },
   "outputs": [
    {
     "data": {
      "text/latex": [
       "$\\displaystyle \\text{Solution }y_2 \\text{ takes the form } y_2 = v(t)y_1$"
      ],
      "text/plain": [
       "<IPython.core.display.Math object>"
      ]
     },
     "metadata": {},
     "output_type": "display_data"
    },
    {
     "data": {
      "text/latex": [
       "$\\displaystyle y_{2} = \\frac{4 v{\\left (t \\right )}}{t}$"
      ],
      "text/plain": [
       "<IPython.core.display.Math object>"
      ]
     },
     "metadata": {},
     "output_type": "display_data"
    },
    {
     "data": {
      "text/latex": [
       "$\\displaystyle \\text{Calculate the derivatives}$"
      ],
      "text/plain": [
       "<IPython.core.display.Math object>"
      ]
     },
     "metadata": {},
     "output_type": "display_data"
    },
    {
     "data": {
      "text/latex": [
       "$\\displaystyle \\frac{d}{d t} \\frac{4 v{\\left (t \\right )}}{t} = \\frac{4 \\frac{d}{d t} v{\\left (t \\right )}}{t} - \\frac{4 v{\\left (t \\right )}}{t^{2}}$"
      ],
      "text/plain": [
       "<IPython.core.display.Math object>"
      ]
     },
     "metadata": {},
     "output_type": "display_data"
    },
    {
     "data": {
      "text/latex": [
       "$\\displaystyle \\frac{d^{2}}{d t^{2}} \\frac{4 v{\\left (t \\right )}}{t} = \\frac{4 \\frac{d^{2}}{d t^{2}} v{\\left (t \\right )}}{t} - \\frac{8 \\frac{d}{d t} v{\\left (t \\right )}}{t^{2}} + \\frac{8 v{\\left (t \\right )}}{t^{3}}$"
      ],
      "text/plain": [
       "<IPython.core.display.Math object>"
      ]
     },
     "metadata": {},
     "output_type": "display_data"
    },
    {
     "data": {
      "text/latex": [
       "$\\displaystyle \\text{Plug in the derivatives and simplify LHS of } y'' + p(t)y' + q(t)y = g(t) \\\\v(t) \\text{ terms should cancel out}$"
      ],
      "text/plain": [
       "<IPython.core.display.Math object>"
      ]
     },
     "metadata": {},
     "output_type": "display_data"
    },
    {
     "data": {
      "text/latex": [
       "$\\displaystyle \\frac{4 \\frac{d^{2}}{d t^{2}} v{\\left (t \\right )}}{t} + \\frac{4 \\frac{d}{d t} v{\\left (t \\right )}}{t^{2}} = \\frac{4 \\frac{d^{2}}{d t^{2}} v{\\left (t \\right )}}{t} + \\frac{4 \\frac{d}{d t} v{\\left (t \\right )}}{t^{2}} = 0$"
      ],
      "text/plain": [
       "<IPython.core.display.Math object>"
      ]
     },
     "metadata": {},
     "output_type": "display_data"
    },
    {
     "data": {
      "text/latex": [
       "$\\displaystyle \\text{Let } w(t) = v'(t) \\text{ and convert to standard form}$"
      ],
      "text/plain": [
       "<IPython.core.display.Math object>"
      ]
     },
     "metadata": {},
     "output_type": "display_data"
    },
    {
     "data": {
      "text/latex": [
       "$\\displaystyle \\frac{4 \\frac{d}{d t} w{\\left (t \\right )}}{t} + \\frac{4 w{\\left (t \\right )}}{t^{2}} = 0$"
      ],
      "text/plain": [
       "<IPython.core.display.Math object>"
      ]
     },
     "metadata": {},
     "output_type": "display_data"
    },
    {
     "data": {
      "text/latex": [
       "$\\displaystyle \\frac{d}{d t} w{\\left (t \\right )} + \\frac{w{\\left (t \\right )}}{t} = 0$"
      ],
      "text/plain": [
       "<IPython.core.display.Math object>"
      ]
     },
     "metadata": {},
     "output_type": "display_data"
    },
    {
     "data": {
      "text/latex": [
       "$\\displaystyle \\text{Solve the first order linear differential equation in } w(t)$"
      ],
      "text/plain": [
       "<IPython.core.display.Math object>"
      ]
     },
     "metadata": {},
     "output_type": "display_data"
    },
    {
     "data": {
      "text/latex": [
       "$\\displaystyle w{\\left (t \\right )} = \\frac{C_{1}}{t}$"
      ],
      "text/plain": [
       "<IPython.core.display.Math object>"
      ]
     },
     "metadata": {},
     "output_type": "display_data"
    },
    {
     "data": {
      "text/latex": [
       "$\\displaystyle \\text{Integrate } w(t) \\text{ to solve for} v(t)$"
      ],
      "text/plain": [
       "<IPython.core.display.Math object>"
      ]
     },
     "metadata": {},
     "output_type": "display_data"
    },
    {
     "data": {
      "text/latex": [
       "$\\displaystyle \\int \\frac{C_{1}}{t}\\, dt = C_{1} \\ln{\\left (t \\right )} + C_{2}$"
      ],
      "text/plain": [
       "<IPython.core.display.Math object>"
      ]
     },
     "metadata": {},
     "output_type": "display_data"
    },
    {
     "data": {
      "text/latex": [
       "$\\displaystyle \\text{Solve for y2: } y_2 = v(t) y_1(t)$"
      ],
      "text/plain": [
       "<IPython.core.display.Math object>"
      ]
     },
     "metadata": {},
     "output_type": "display_data"
    },
    {
     "data": {
      "text/latex": [
       "$\\displaystyle y_{2} = \\frac{4 C_{1} \\ln{\\left (t \\right )}}{t} + \\frac{4 C_{2}}{t} = \\frac{C_{1} \\ln{\\left (t \\right )} + C_{2}}{t}$"
      ],
      "text/plain": [
       "<IPython.core.display.Math object>"
      ]
     },
     "metadata": {},
     "output_type": "display_data"
    }
   ],
   "source": [
    "t = Symbol('t')\n",
    "y, p = red_order(4 / t, *to_std(t**2, 3*t, 1), 0, t)\n",
    "display_procedure(p)"
   ]
  },
  {
   "cell_type": "code",
   "execution_count": 3,
   "metadata": {},
   "outputs": [
    {
     "data": {
      "text/latex": [
       "$\\displaystyle \\text{Solution }y_2 \\text{ takes the form } y_2 = v(t)y_1$"
      ],
      "text/plain": [
       "<IPython.core.display.Math object>"
      ]
     },
     "metadata": {},
     "output_type": "display_data"
    },
    {
     "data": {
      "text/latex": [
       "$\\displaystyle y_{2} = v{\\left (t \\right )} e^{- \\frac{b t}{2 a}}$"
      ],
      "text/plain": [
       "<IPython.core.display.Math object>"
      ]
     },
     "metadata": {},
     "output_type": "display_data"
    },
    {
     "data": {
      "text/latex": [
       "$\\displaystyle \\text{Calculate the derivatives}$"
      ],
      "text/plain": [
       "<IPython.core.display.Math object>"
      ]
     },
     "metadata": {},
     "output_type": "display_data"
    },
    {
     "data": {
      "text/latex": [
       "$\\displaystyle \\frac{\\partial}{\\partial t} v{\\left (t \\right )} e^{- \\frac{b t}{2 a}} = e^{- \\frac{b t}{2 a}} \\frac{d}{d t} v{\\left (t \\right )} - \\frac{b v{\\left (t \\right )} e^{- \\frac{b t}{2 a}}}{2 a}$"
      ],
      "text/plain": [
       "<IPython.core.display.Math object>"
      ]
     },
     "metadata": {},
     "output_type": "display_data"
    },
    {
     "data": {
      "text/latex": [
       "$\\displaystyle \\frac{\\partial^{2}}{\\partial t^{2}} v{\\left (t \\right )} e^{- \\frac{b t}{2 a}} = e^{- \\frac{b t}{2 a}} \\frac{d^{2}}{d t^{2}} v{\\left (t \\right )} - \\frac{b e^{- \\frac{b t}{2 a}} \\frac{d}{d t} v{\\left (t \\right )}}{a} + \\frac{b^{2} v{\\left (t \\right )} e^{- \\frac{b t}{2 a}}}{4 a^{2}}$"
      ],
      "text/plain": [
       "<IPython.core.display.Math object>"
      ]
     },
     "metadata": {},
     "output_type": "display_data"
    },
    {
     "data": {
      "text/latex": [
       "$\\displaystyle \\text{Plug in the derivatives and simplify LHS of } y'' + p(t)y' + q(t)y = g(t) \\\\v(t) \\text{ terms should cancel out}$"
      ],
      "text/plain": [
       "<IPython.core.display.Math object>"
      ]
     },
     "metadata": {},
     "output_type": "display_data"
    },
    {
     "data": {
      "text/latex": [
       "$\\displaystyle \\left(\\frac{c}{a \\sqrt{e^{\\frac{b t}{a}}}} - \\frac{b^{2}}{4 a^{2} \\sqrt{e^{\\frac{b t}{a}}}}\\right) v{\\left (t \\right )} + \\frac{\\frac{d^{2}}{d t^{2}} v{\\left (t \\right )}}{\\sqrt{e^{\\frac{b t}{a}}}} = \\left(\\frac{c}{a \\sqrt{e^{\\frac{b t}{a}}}} - \\frac{b^{2}}{4 a^{2} \\sqrt{e^{\\frac{b t}{a}}}}\\right) v{\\left (t \\right )} + \\frac{\\frac{d^{2}}{d t^{2}} v{\\left (t \\right )}}{\\sqrt{e^{\\frac{b t}{a}}}} = 0$"
      ],
      "text/plain": [
       "<IPython.core.display.Math object>"
      ]
     },
     "metadata": {},
     "output_type": "display_data"
    },
    {
     "data": {
      "text/latex": [
       "$\\displaystyle \\text{Let } w(t) = v'(t) \\text{ and convert to standard form}$"
      ],
      "text/plain": [
       "<IPython.core.display.Math object>"
      ]
     },
     "metadata": {},
     "output_type": "display_data"
    },
    {
     "data": {
      "text/latex": [
       "$\\displaystyle \\frac{\\frac{d}{d t} w{\\left (t \\right )}}{\\sqrt{e^{\\frac{b t}{a}}}} + \\frac{c v{\\left (t \\right )}}{a \\sqrt{e^{\\frac{b t}{a}}}} - \\frac{b^{2} v{\\left (t \\right )}}{4 a^{2} \\sqrt{e^{\\frac{b t}{a}}}} = 0$"
      ],
      "text/plain": [
       "<IPython.core.display.Math object>"
      ]
     },
     "metadata": {},
     "output_type": "display_data"
    },
    {
     "data": {
      "text/latex": [
       "$\\displaystyle \\frac{d}{d t} w{\\left (t \\right )} + \\frac{c v{\\left (t \\right )}}{a} - \\frac{b^{2} v{\\left (t \\right )}}{4 a^{2}} = 0$"
      ],
      "text/plain": [
       "<IPython.core.display.Math object>"
      ]
     },
     "metadata": {},
     "output_type": "display_data"
    },
    {
     "data": {
      "text/latex": [
       "$\\displaystyle \\text{Solve the first order linear differential equation in } w(t)$"
      ],
      "text/plain": [
       "<IPython.core.display.Math object>"
      ]
     },
     "metadata": {},
     "output_type": "display_data"
    },
    {
     "data": {
      "text/latex": [
       "$\\displaystyle w{\\left (t \\right )} = C_{1}$"
      ],
      "text/plain": [
       "<IPython.core.display.Math object>"
      ]
     },
     "metadata": {},
     "output_type": "display_data"
    },
    {
     "data": {
      "text/latex": [
       "$\\displaystyle \\text{Integrate } w(t) \\text{ to solve for} v(t)$"
      ],
      "text/plain": [
       "<IPython.core.display.Math object>"
      ]
     },
     "metadata": {},
     "output_type": "display_data"
    },
    {
     "data": {
      "text/latex": [
       "$\\displaystyle \\int C_{1}\\, dt = C_{1} t + C_{2}$"
      ],
      "text/plain": [
       "<IPython.core.display.Math object>"
      ]
     },
     "metadata": {},
     "output_type": "display_data"
    },
    {
     "data": {
      "text/latex": [
       "$\\displaystyle \\text{Solve for y2: } y_2 = v(t) y_1(t)$"
      ],
      "text/plain": [
       "<IPython.core.display.Math object>"
      ]
     },
     "metadata": {},
     "output_type": "display_data"
    },
    {
     "data": {
      "text/latex": [
       "$\\displaystyle y_{2} = C_{1} t e^{- \\frac{b t}{2 a}} + C_{2} e^{- \\frac{b t}{2 a}} = \\left(C_{1} t + C_{2}\\right) e^{- \\frac{b t}{2 a}}$"
      ],
      "text/plain": [
       "<IPython.core.display.Math object>"
      ]
     },
     "metadata": {},
     "output_type": "display_data"
    }
   ],
   "source": [
    "a, b, c, t = symbols('a b c t')\n",
    "y1 = exp(-b / (2*a) * t)\n",
    "y, p = red_order(y1, *to_std(a, b, c), 0, t)\n",
    "display_procedure(p)"
   ]
  }
 ],
 "metadata": {
  "kernelspec": {
   "display_name": "Python 3",
   "language": "python",
   "name": "python3"
  },
  "language_info": {
   "codemirror_mode": {
    "name": "ipython",
    "version": 3
   },
   "file_extension": ".py",
   "mimetype": "text/x-python",
   "name": "python",
   "nbconvert_exporter": "python",
   "pygments_lexer": "ipython3",
   "version": "3.7.0"
  }
 },
 "nbformat": 4,
 "nbformat_minor": 2
}
