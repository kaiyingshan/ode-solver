{
 "cells": [
  {
   "cell_type": "code",
   "execution_count": 1,
   "metadata": {},
   "outputs": [],
   "source": [
    "from sympy import *\n",
    "init_printing()\n",
    "from root.solver import *\n",
    "from IPython.display import display"
   ]
  },
  {
   "cell_type": "code",
   "execution_count": 2,
   "metadata": {
    "scrolled": false
   },
   "outputs": [
    {
     "data": {
      "text/latex": [
       "$\\displaystyle \\text{Characteristic equation:}$"
      ],
      "text/plain": [
       "<IPython.core.display.Math object>"
      ]
     },
     "metadata": {},
     "output_type": "display_data"
    },
    {
     "data": {
      "text/latex": [
       "$\\displaystyle r^{6} + 4 r^{5} + 20 r^{4} + 64 r^{3} + 64 r^{2} = 0$"
      ],
      "text/plain": [
       "<IPython.core.display.Math object>"
      ]
     },
     "metadata": {},
     "output_type": "display_data"
    },
    {
     "data": {
      "text/latex": [
       "$\\displaystyle \\text{Roots: }$"
      ],
      "text/plain": [
       "<IPython.core.display.Math object>"
      ]
     },
     "metadata": {},
     "output_type": "display_data"
    },
    {
     "data": {
      "text/latex": [
       "$\\displaystyle r_{1,2} = -2$"
      ],
      "text/plain": [
       "<IPython.core.display.Math object>"
      ]
     },
     "metadata": {},
     "output_type": "display_data"
    },
    {
     "data": {
      "text/latex": [
       "$\\displaystyle r_{3,4} = 0$"
      ],
      "text/plain": [
       "<IPython.core.display.Math object>"
      ]
     },
     "metadata": {},
     "output_type": "display_data"
    },
    {
     "data": {
      "text/latex": [
       "$\\displaystyle r_{5} = - 4 i$"
      ],
      "text/plain": [
       "<IPython.core.display.Math object>"
      ]
     },
     "metadata": {},
     "output_type": "display_data"
    },
    {
     "data": {
      "text/latex": [
       "$\\displaystyle r_{6} = 4 i$"
      ],
      "text/plain": [
       "<IPython.core.display.Math object>"
      ]
     },
     "metadata": {},
     "output_type": "display_data"
    },
    {
     "data": {
      "text/latex": [
       "$\\displaystyle \\text{General Solution}$"
      ],
      "text/plain": [
       "<IPython.core.display.Math object>"
      ]
     },
     "metadata": {},
     "output_type": "display_data"
    },
    {
     "data": {
      "text/latex": [
       "$\\displaystyle y = C_{1} e^{- 2 t} + C_{2} t e^{- 2 t} + C_{3} + C_{4} t + C_{5} \\sin{\\left (4 t \\right )} + C_{6} \\cos{\\left (4 t \\right )}$"
      ],
      "text/plain": [
       "<IPython.core.display.Math object>"
      ]
     },
     "metadata": {},
     "output_type": "display_data"
    }
   ],
   "source": [
    "sols, procedure = nth_order_const_coeff(1, 4, 20, 64, 64, 0, 0)\n",
    "display_procedure(procedure)"
   ]
  },
  {
   "cell_type": "code",
   "execution_count": 3,
   "metadata": {
    "scrolled": false
   },
   "outputs": [
    {
     "data": {
      "text/latex": [
       "$\\displaystyle \\text{Compute Wronskian}$"
      ],
      "text/plain": [
       "<IPython.core.display.Math object>"
      ]
     },
     "metadata": {},
     "output_type": "display_data"
    },
    {
     "data": {
      "text/latex": [
       "$\\displaystyle W = \\left|{\\left[\\begin{matrix}e^{6 t} & t e^{6 t}\\\\6 e^{6 t} & 6 t e^{6 t} + e^{6 t}\\end{matrix}\\right]}\\right| = e^{12 t}$"
      ],
      "text/plain": [
       "<IPython.core.display.Math object>"
      ]
     },
     "metadata": {},
     "output_type": "display_data"
    },
    {
     "data": {
      "text/latex": [
       "$\\displaystyle \\text{Compute } W_i$"
      ],
      "text/plain": [
       "<IPython.core.display.Math object>"
      ]
     },
     "metadata": {},
     "output_type": "display_data"
    },
    {
     "data": {
      "text/latex": [
       "$\\displaystyle W_{1} = \\left|{\\left[\\begin{matrix}0 & t e^{6 t}\\\\1 & 6 t e^{6 t} + e^{6 t}\\end{matrix}\\right]}\\right| = - t e^{6 t}$"
      ],
      "text/plain": [
       "<IPython.core.display.Math object>"
      ]
     },
     "metadata": {},
     "output_type": "display_data"
    },
    {
     "data": {
      "text/latex": [
       "$\\displaystyle W_{2} = \\left|{\\left[\\begin{matrix}e^{6 t} & 0\\\\6 e^{6 t} & 1\\end{matrix}\\right]}\\right| = e^{6 t}$"
      ],
      "text/plain": [
       "<IPython.core.display.Math object>"
      ]
     },
     "metadata": {},
     "output_type": "display_data"
    },
    {
     "data": {
      "text/latex": [
       "$\\displaystyle \\text{Compute } \\frac{g(t)}{W(t)}$"
      ],
      "text/plain": [
       "<IPython.core.display.Math object>"
      ]
     },
     "metadata": {},
     "output_type": "display_data"
    },
    {
     "data": {
      "text/latex": [
       "$\\displaystyle \\frac{14 t^{2} + \\frac{e^{6 t}}{t^{2}}}{e^{12 t}} = \\frac{\\left(14 t^{4} + e^{6 t}\\right) e^{- 12 t}}{t^{2}}$"
      ],
      "text/plain": [
       "<IPython.core.display.Math object>"
      ]
     },
     "metadata": {},
     "output_type": "display_data"
    },
    {
     "data": {
      "text/latex": [
       "$\\displaystyle \\text{Compute } \\int \\frac{g(t)W_i(t)}{W(t)} dt$"
      ],
      "text/plain": [
       "<IPython.core.display.Math object>"
      ]
     },
     "metadata": {},
     "output_type": "display_data"
    },
    {
     "data": {
      "text/latex": [
       "$\\displaystyle \\int \\left(- 14 t^{3} e^{- 6 t} - \\frac{1}{t}\\right)\\, dt = \\frac{7 t^{3} e^{- 6 t}}{3} + \\frac{7 t^{2} e^{- 6 t}}{6} + \\frac{7 t e^{- 6 t}}{18} - \\ln{\\left (t \\right )} + \\frac{7 e^{- 6 t}}{108}$"
      ],
      "text/plain": [
       "<IPython.core.display.Math object>"
      ]
     },
     "metadata": {},
     "output_type": "display_data"
    },
    {
     "data": {
      "text/latex": [
       "$\\displaystyle \\int \\left(14 t^{2} e^{- 6 t} + \\frac{1}{t^{2}}\\right)\\, dt = - \\frac{7 t^{2} e^{- 6 t}}{3} - \\frac{7 t e^{- 6 t}}{9} - \\frac{7 e^{- 6 t}}{54} - \\frac{1}{t}$"
      ],
      "text/plain": [
       "<IPython.core.display.Math object>"
      ]
     },
     "metadata": {},
     "output_type": "display_data"
    },
    {
     "data": {
      "text/latex": [
       "$\\displaystyle \\text{Compute the sum } \\sum_{i=1}^{k} y_i \\int \\frac{g(t)W_i(t)}{W(t)} dt$"
      ],
      "text/plain": [
       "<IPython.core.display.Math object>"
      ]
     },
     "metadata": {},
     "output_type": "display_data"
    },
    {
     "data": {
      "text/latex": [
       "$\\displaystyle t \\left(- \\frac{7 t^{2} e^{- 6 t}}{3} - \\frac{7 t e^{- 6 t}}{9} - \\frac{7 e^{- 6 t}}{54} - \\frac{1}{t}\\right) e^{6 t} + \\left(\\frac{7 t^{3} e^{- 6 t}}{3} + \\frac{7 t^{2} e^{- 6 t}}{6} + \\frac{7 t e^{- 6 t}}{18} - \\ln{\\left (t \\right )} + \\frac{7 e^{- 6 t}}{108}\\right) e^{6 t} = \\frac{7 t^{2}}{18} + \\frac{7 t}{27} - e^{6 t} \\ln{\\left (t \\right )} - e^{6 t} + \\frac{7}{108}$"
      ],
      "text/plain": [
       "<IPython.core.display.Math object>"
      ]
     },
     "metadata": {},
     "output_type": "display_data"
    }
   ],
   "source": [
    "t = Symbol(\"t\")\n",
    "yc, _ = nth_order_const_coeff(1, -12, 36)\n",
    "yp, procedure = var_parameters(yc, t ** (-2) * exp(6 * t) + 14 * t ** 2)\n",
    "display_procedure(procedure)"
   ]
  },
  {
   "cell_type": "code",
   "execution_count": 4,
   "metadata": {
    "scrolled": false
   },
   "outputs": [
    {
     "data": {
      "image/png": "[encoded data removed]",
      "text/latex": [
       "$$C_{1} e^{6 t} + C_{2} t e^{6 t} + \\frac{7 t^{2}}{18} + \\frac{7 t}{27} - e^{6 t} \\log{\\left (t \\right )} - e^{6 t} + \\frac{7}{108}$$"
      ],
      "text/plain": [
       "                         2                                 \n",
       "    6⋅t         6⋅t   7⋅t    7⋅t    6⋅t           6⋅t    7 \n",
       "C₁⋅ℯ    + C₂⋅t⋅ℯ    + ──── + ─── - ℯ   ⋅log(t) - ℯ    + ───\n",
       "                       18     27                        108"
      ]
     },
     "execution_count": 4,
     "metadata": {},
     "output_type": "execute_result"
    }
   ],
   "source": [
    "y, consts = to_general(yc, yp)\n",
    "y"
   ]
  },
  {
   "cell_type": "code",
   "execution_count": 5,
   "metadata": {
    "scrolled": false
   },
   "outputs": [
    {
     "data": {
      "text/latex": [
       "$\\displaystyle \\text{Find successive derivatives of } y(t)$"
      ],
      "text/plain": [
       "<IPython.core.display.Math object>"
      ]
     },
     "metadata": {},
     "output_type": "display_data"
    },
    {
     "data": {
      "text/latex": [
       "$\\displaystyle y{\\left (t \\right )} = C_{1} e^{6 t} + C_{2} t e^{6 t} + \\frac{7 t^{2}}{18} + \\frac{7 t}{27} - e^{6 t} \\ln{\\left (t \\right )} - e^{6 t} + \\frac{7}{108}$"
      ],
      "text/plain": [
       "<IPython.core.display.Math object>"
      ]
     },
     "metadata": {},
     "output_type": "display_data"
    },
    {
     "data": {
      "text/latex": [
       "$\\displaystyle \\frac{d}{d t} y{\\left (t \\right )} = 6 C_{1} e^{6 t} + 6 C_{2} t e^{6 t} + C_{2} e^{6 t} + \\frac{7 t}{9} - 6 e^{6 t} \\ln{\\left (t \\right )} - 6 e^{6 t} + \\frac{7}{27} - \\frac{e^{6 t}}{t}$"
      ],
      "text/plain": [
       "<IPython.core.display.Math object>"
      ]
     },
     "metadata": {},
     "output_type": "display_data"
    },
    {
     "data": {
      "text/latex": [
       "$\\displaystyle \\text{Substitute the initial conditions}$"
      ],
      "text/plain": [
       "<IPython.core.display.Math object>"
      ]
     },
     "metadata": {},
     "output_type": "display_data"
    },
    {
     "data": {
      "text/latex": [
       "$\\displaystyle C_{1} e^{6} + C_{2} e^{6} - e^{6} + \\frac{77}{108} = 8$"
      ],
      "text/plain": [
       "<IPython.core.display.Math object>"
      ]
     },
     "metadata": {},
     "output_type": "display_data"
    },
    {
     "data": {
      "text/latex": [
       "$\\displaystyle 6 C_{1} e^{6} + 7 C_{2} e^{6} - 7 e^{6} + \\frac{28}{27} = 5$"
      ],
      "text/plain": [
       "<IPython.core.display.Math object>"
      ]
     },
     "metadata": {},
     "output_type": "display_data"
    },
    {
     "data": {
      "text/latex": [
       "$\\displaystyle \\text{Solve for the arbitrary constants}$"
      ],
      "text/plain": [
       "<IPython.core.display.Math object>"
      ]
     },
     "metadata": {},
     "output_type": "display_data"
    },
    {
     "data": {
      "text/latex": [
       "$\\displaystyle \\left \\{ C_{1} : \\frac{5081}{108 e^{6}}, \\quad C_{2} : - \\frac{2147}{54 e^{6}} + 1\\right \\}$"
      ],
      "text/plain": [
       "<IPython.core.display.Math object>"
      ]
     },
     "metadata": {},
     "output_type": "display_data"
    },
    {
     "data": {
      "text/latex": [
       "$\\displaystyle \\text{Substitute the solved constants into } y(t)$"
      ],
      "text/plain": [
       "<IPython.core.display.Math object>"
      ]
     },
     "metadata": {},
     "output_type": "display_data"
    },
    {
     "data": {
      "text/latex": [
       "$\\displaystyle \\frac{7 t^{2}}{18} + t \\left(- \\frac{2147}{54 e^{6}} + 1\\right) e^{6 t} + \\frac{7 t}{27} - e^{6 t} \\ln{\\left (t \\right )} - e^{6 t} + \\frac{5081 e^{6 t}}{108 e^{6}} + \\frac{7}{108}$"
      ],
      "text/plain": [
       "<IPython.core.display.Math object>"
      ]
     },
     "metadata": {},
     "output_type": "display_data"
    }
   ],
   "source": [
    "y, procedure = solve_ivp(y, [(1, 8), (1, 5)])\n",
    "display_procedure(procedure)"
   ]
  },
  {
   "cell_type": "code",
   "execution_count": 6,
   "metadata": {},
   "outputs": [
    {
     "data": {
      "text/latex": [
       "$\\displaystyle \\text{Find successive derivatives of } y(t)$"
      ],
      "text/plain": [
       "<IPython.core.display.Math object>"
      ]
     },
     "metadata": {},
     "output_type": "display_data"
    },
    {
     "data": {
      "text/latex": [
       "$\\displaystyle y{\\left (t \\right )} = \\frac{C_{1} + C_{2} \\ln{\\left (t \\right )}}{t^{5}}$"
      ],
      "text/plain": [
       "<IPython.core.display.Math object>"
      ]
     },
     "metadata": {},
     "output_type": "display_data"
    },
    {
     "data": {
      "text/latex": [
       "$\\displaystyle \\frac{d}{d t} y{\\left (t \\right )} = \\frac{- 5 C_{1} - 5 C_{2} \\ln{\\left (t \\right )} + C_{2}}{t^{6}}$"
      ],
      "text/plain": [
       "<IPython.core.display.Math object>"
      ]
     },
     "metadata": {},
     "output_type": "display_data"
    },
    {
     "data": {
      "text/latex": [
       "$\\displaystyle \\text{Substitute the initial conditions}$"
      ],
      "text/plain": [
       "<IPython.core.display.Math object>"
      ]
     },
     "metadata": {},
     "output_type": "display_data"
    },
    {
     "data": {
      "text/latex": [
       "$\\displaystyle C_{1} = 8$"
      ],
      "text/plain": [
       "<IPython.core.display.Math object>"
      ]
     },
     "metadata": {},
     "output_type": "display_data"
    },
    {
     "data": {
      "text/latex": [
       "$\\displaystyle - 5 C_{1} + C_{2} = 5$"
      ],
      "text/plain": [
       "<IPython.core.display.Math object>"
      ]
     },
     "metadata": {},
     "output_type": "display_data"
    },
    {
     "data": {
      "text/latex": [
       "$\\displaystyle \\text{Solve for the arbitrary constants}$"
      ],
      "text/plain": [
       "<IPython.core.display.Math object>"
      ]
     },
     "metadata": {},
     "output_type": "display_data"
    },
    {
     "data": {
      "text/latex": [
       "$\\displaystyle \\left \\{ C_{1} : 8, \\quad C_{2} : 45\\right \\}$"
      ],
      "text/plain": [
       "<IPython.core.display.Math object>"
      ]
     },
     "metadata": {},
     "output_type": "display_data"
    },
    {
     "data": {
      "text/latex": [
       "$\\displaystyle \\text{Substitute the solved constants into } y(t)$"
      ],
      "text/plain": [
       "<IPython.core.display.Math object>"
      ]
     },
     "metadata": {},
     "output_type": "display_data"
    },
    {
     "data": {
      "text/latex": [
       "$\\displaystyle \\frac{45 \\ln{\\left (t \\right )}}{t^{5}} + \\frac{8}{t^{5}}$"
      ],
      "text/plain": [
       "<IPython.core.display.Math object>"
      ]
     },
     "metadata": {},
     "output_type": "display_data"
    }
   ],
   "source": [
    "y1, y2, _ = sec_order_euler(1, 11, 25)\n",
    "y, consts = to_general([y1, y2])\n",
    "y, procedure = solve_ivp(y, [(1, 8), (1, 5)])\n",
    "display_procedure(procedure)"
   ]
  },
  {
   "cell_type": "code",
   "execution_count": null,
   "metadata": {},
   "outputs": [],
   "source": []
  }
 ],
 "metadata": {
  "kernelspec": {
   "display_name": "Python 3",
   "language": "python",
   "name": "python3"
  },
  "language_info": {
   "codemirror_mode": {
    "name": "ipython",
    "version": 3
   },
   "file_extension": ".py",
   "mimetype": "text/x-python",
   "name": "python",
   "nbconvert_exporter": "python",
   "pygments_lexer": "ipython3",
   "version": "3.6.6"
  }
 },
 "nbformat": 4,
 "nbformat_minor": 2
}
