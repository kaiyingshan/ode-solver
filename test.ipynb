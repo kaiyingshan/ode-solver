{
 "cells": [
  {
   "cell_type": "code",
   "execution_count": 1,
   "metadata": {},
   "outputs": [],
   "source": [
    "from sympy import *\n",
    "init_printing()\n",
    "from root.solver import *\n",
    "from IPython.display import display"
   ]
  },
  {
   "cell_type": "code",
   "execution_count": 2,
   "metadata": {
    "scrolled": false
   },
   "outputs": [
    {
     "data": {
      "text/latex": [
       "$\\displaystyle \\text{Characteristic equation: }$"
      ],
      "text/plain": [
       "<IPython.core.display.Math object>"
      ]
     },
     "metadata": {},
     "output_type": "display_data"
    },
    {
     "data": {
      "text/latex": [
       "$\\displaystyle r^{2} + 2 r + 3 = 0$"
      ],
      "text/plain": [
       "<IPython.core.display.Math object>"
      ]
     },
     "metadata": {},
     "output_type": "display_data"
    },
    {
     "data": {
      "text/latex": [
       "$\\displaystyle \\text{Roots: }$"
      ],
      "text/plain": [
       "<IPython.core.display.Math object>"
      ]
     },
     "metadata": {},
     "output_type": "display_data"
    },
    {
     "data": {
      "text/latex": [
       "$\\displaystyle r_{1} = -1 + \\sqrt{2} i$"
      ],
      "text/plain": [
       "<IPython.core.display.Math object>"
      ]
     },
     "metadata": {},
     "output_type": "display_data"
    },
    {
     "data": {
      "text/latex": [
       "$\\displaystyle r_{2} = -1 - \\sqrt{2} i$"
      ],
      "text/plain": [
       "<IPython.core.display.Math object>"
      ]
     },
     "metadata": {},
     "output_type": "display_data"
    },
    {
     "data": {
      "text/latex": [
       "$\\displaystyle \\text{Solutions: }$"
      ],
      "text/plain": [
       "<IPython.core.display.Math object>"
      ]
     },
     "metadata": {},
     "output_type": "display_data"
    },
    {
     "data": {
      "text/latex": [
       "$\\displaystyle y_{1} = e^{- t} \\cos{\\left (\\sqrt{2} t \\right )}$"
      ],
      "text/plain": [
       "<IPython.core.display.Math object>"
      ]
     },
     "metadata": {},
     "output_type": "display_data"
    },
    {
     "data": {
      "text/latex": [
       "$\\displaystyle y_{2} = e^{- t} \\sin{\\left (\\sqrt{2} t \\right )}$"
      ],
      "text/plain": [
       "<IPython.core.display.Math object>"
      ]
     },
     "metadata": {},
     "output_type": "display_data"
    }
   ],
   "source": [
    "y1, y2, procedure = sec_order_const_coeff(1, 2, 3)\n",
    "display_procedure(procedure)"
   ]
  },
  {
   "cell_type": "code",
   "execution_count": 10,
   "metadata": {},
   "outputs": [
    {
     "data": {
      "text/latex": [
       "$\\displaystyle \\text{Compute Wronskian}$"
      ],
      "text/plain": [
       "<IPython.core.display.Math object>"
      ]
     },
     "metadata": {},
     "output_type": "display_data"
    },
    {
     "data": {
      "text/latex": [
       "$\\displaystyle W = \\left|{\\left[\\begin{matrix}e^{6 t} & t e^{6 t}\\\\6 e^{6 t} & 6 t e^{6 t} + e^{6 t}\\end{matrix}\\right]}\\right| = e^{12 t}$"
      ],
      "text/plain": [
       "<IPython.core.display.Math object>"
      ]
     },
     "metadata": {},
     "output_type": "display_data"
    },
    {
     "data": {
      "text/latex": [
       "$\\displaystyle \\text{Compute } W_i$"
      ],
      "text/plain": [
       "<IPython.core.display.Math object>"
      ]
     },
     "metadata": {},
     "output_type": "display_data"
    },
    {
     "data": {
      "text/latex": [
       "$\\displaystyle W_{1} = \\left|{\\left[\\begin{matrix}0 & t e^{6 t}\\\\1 & 6 t e^{6 t} + e^{6 t}\\end{matrix}\\right]}\\right| = - t e^{6 t}$"
      ],
      "text/plain": [
       "<IPython.core.display.Math object>"
      ]
     },
     "metadata": {},
     "output_type": "display_data"
    },
    {
     "data": {
      "text/latex": [
       "$\\displaystyle W_{2} = \\left|{\\left[\\begin{matrix}e^{6 t} & 0\\\\6 e^{6 t} & 1\\end{matrix}\\right]}\\right| = e^{6 t}$"
      ],
      "text/plain": [
       "<IPython.core.display.Math object>"
      ]
     },
     "metadata": {},
     "output_type": "display_data"
    },
    {
     "data": {
      "text/latex": [
       "$\\displaystyle \\text{Compute } \\frac{g(t)}{W(t)}$"
      ],
      "text/plain": [
       "<IPython.core.display.Math object>"
      ]
     },
     "metadata": {},
     "output_type": "display_data"
    },
    {
     "data": {
      "text/latex": [
       "$\\displaystyle \\frac{14 t^{2} + \\frac{e^{6 t}}{t^{2}}}{e^{12 t}} = \\frac{\\left(14 t^{4} + e^{6 t}\\right) e^{- 12 t}}{t^{2}}$"
      ],
      "text/plain": [
       "<IPython.core.display.Math object>"
      ]
     },
     "metadata": {},
     "output_type": "display_data"
    },
    {
     "data": {
      "text/latex": [
       "$\\displaystyle \\text{Compute } \\int \\frac{g(t)W_i(t)}{W(t)} dt$"
      ],
      "text/plain": [
       "<IPython.core.display.Math object>"
      ]
     },
     "metadata": {},
     "output_type": "display_data"
    },
    {
     "data": {
      "text/latex": [
       "$\\displaystyle \\int \\left(- \\frac{\\left(14 t^{4} + e^{6 t}\\right) e^{- 6 t}}{t}\\right)\\, dt = \\frac{\\left(252 t^{3} + 126 t^{2} + 42 t + 7\\right) e^{- 6 t}}{108} - \\ln{\\left (t \\right )}$"
      ],
      "text/plain": [
       "<IPython.core.display.Math object>"
      ]
     },
     "metadata": {},
     "output_type": "display_data"
    },
    {
     "data": {
      "text/latex": [
       "$\\displaystyle \\int \\frac{\\left(14 t^{4} + e^{6 t}\\right) e^{- 6 t}}{t^{2}}\\, dt = \\frac{\\left(- 126 t^{2} - 42 t - 7\\right) e^{- 6 t}}{54} - \\frac{1}{t}$"
      ],
      "text/plain": [
       "<IPython.core.display.Math object>"
      ]
     },
     "metadata": {},
     "output_type": "display_data"
    },
    {
     "data": {
      "text/latex": [
       "$\\displaystyle \\text{Compute the sum } \\sum_{i=1}^{k} y_i \\int \\frac{g(t)W_i(t)}{W(t)} dt$"
      ],
      "text/plain": [
       "<IPython.core.display.Math object>"
      ]
     },
     "metadata": {},
     "output_type": "display_data"
    },
    {
     "data": {
      "text/latex": [
       "$\\displaystyle t \\left(\\frac{\\left(- 126 t^{2} - 42 t - 7\\right) e^{- 6 t}}{54} - \\frac{1}{t}\\right) e^{6 t} + \\left(\\frac{\\left(252 t^{3} + 126 t^{2} + 42 t + 7\\right) e^{- 6 t}}{108} - \\ln{\\left (t \\right )}\\right) e^{6 t} = \\frac{7 t^{2}}{18} + \\frac{7 t}{27} - e^{6 t} \\ln{\\left (t \\right )} - e^{6 t} + \\frac{7}{108}$"
      ],
      "text/plain": [
       "<IPython.core.display.Math object>"
      ]
     },
     "metadata": {},
     "output_type": "display_data"
    }
   ],
   "source": [
    "t = Symbol(\"t\")\n",
    "y1, y2, _ = sec_order_const_coeff(1, -12, 36)\n",
    "yp, procedure = var_parameters([y1, y2], t ** (-2) * exp(6 * t) + 14 * t ** 2)\n",
    "display_procedure(procedure)"
   ]
  },
  {
   "cell_type": "code",
   "execution_count": 4,
   "metadata": {
    "scrolled": false
   },
   "outputs": [
    {
     "data": {
      "image/png": "[encoded data removed]",
      "text/latex": [
       "$$\\left(C_{1} + C_{2} t + 7 t \\int t e^{- 6 t} \\tan{\\left (t \\right )}\\, dt - 7 \\int t^{2} e^{- 6 t} \\tan{\\left (t \\right )}\\, dt\\right) e^{6 t}$$"
      ],
      "text/plain": [
       "⎛                ⌠                       ⌠                   ⎞     \n",
       "⎜                ⎮    -6⋅t               ⎮  2  -6⋅t          ⎟  6⋅t\n",
       "⎜C₁ + C₂⋅t + 7⋅t⋅⎮ t⋅ℯ    ⋅tan(t) dt - 7⋅⎮ t ⋅ℯ    ⋅tan(t) dt⎟⋅ℯ   \n",
       "⎝                ⌡                       ⌡                   ⎠     "
      ]
     },
     "execution_count": 4,
     "metadata": {},
     "output_type": "execute_result"
    }
   ],
   "source": [
    "y, consts = to_general([y1, y2], yp)\n",
    "y"
   ]
  },
  {
   "cell_type": "code",
   "execution_count": 5,
   "metadata": {
    "scrolled": true
   },
   "outputs": [
    {
     "data": {
      "text/latex": [
       "$\\displaystyle \\text{Find successive derivatives of } y(t)$"
      ],
      "text/plain": [
       "<IPython.core.display.Math object>"
      ]
     },
     "metadata": {},
     "output_type": "display_data"
    },
    {
     "data": {
      "text/latex": [
       "$\\displaystyle y{\\left (t \\right )} = \\left(C_{1} + C_{2} t + 7 t \\int t e^{- 6 t} \\tan{\\left (t \\right )}\\, dt - 7 \\int t^{2} e^{- 6 t} \\tan{\\left (t \\right )}\\, dt\\right) e^{6 t}$"
      ],
      "text/plain": [
       "<IPython.core.display.Math object>"
      ]
     },
     "metadata": {},
     "output_type": "display_data"
    },
    {
     "data": {
      "text/latex": [
       "$\\displaystyle \\frac{d}{d t} y{\\left (t \\right )} = \\left(6 C_{1} + 6 C_{2} t + C_{2} + 42 t \\int t e^{- 6 t} \\tan{\\left (t \\right )}\\, dt + 7 \\int t e^{- 6 t} \\tan{\\left (t \\right )}\\, dt - 42 \\int t^{2} e^{- 6 t} \\tan{\\left (t \\right )}\\, dt\\right) e^{6 t}$"
      ],
      "text/plain": [
       "<IPython.core.display.Math object>"
      ]
     },
     "metadata": {},
     "output_type": "display_data"
    },
    {
     "data": {
      "text/latex": [
       "$\\displaystyle \\text{Substitute the initial conditions}$"
      ],
      "text/plain": [
       "<IPython.core.display.Math object>"
      ]
     },
     "metadata": {},
     "output_type": "display_data"
    },
    {
     "data": {
      "text/latex": [
       "$\\displaystyle \\left(C_{1} + C_{2} + 7 \\int^{1} t e^{- 6 t} \\tan{\\left (t \\right )}\\, dt - 7 \\int^{1} t^{2} e^{- 6 t} \\tan{\\left (t \\right )}\\, dt\\right) e^{6} = 8$"
      ],
      "text/plain": [
       "<IPython.core.display.Math object>"
      ]
     },
     "metadata": {},
     "output_type": "display_data"
    },
    {
     "data": {
      "text/latex": [
       "$\\displaystyle \\left(6 C_{1} + 7 C_{2} + 49 \\int^{1} t e^{- 6 t} \\tan{\\left (t \\right )}\\, dt - 42 \\int^{1} t^{2} e^{- 6 t} \\tan{\\left (t \\right )}\\, dt\\right) e^{6} = 5$"
      ],
      "text/plain": [
       "<IPython.core.display.Math object>"
      ]
     },
     "metadata": {},
     "output_type": "display_data"
    },
    {
     "data": {
      "text/latex": [
       "$\\displaystyle \\text{Solve for the arbitrary constants}$"
      ],
      "text/plain": [
       "<IPython.core.display.Math object>"
      ]
     },
     "metadata": {},
     "output_type": "display_data"
    },
    {
     "data": {
      "text/latex": [
       "$\\displaystyle \\left \\{ C_{1} : 7 \\int^{1} t^{2} e^{- 6 t} \\tan{\\left (t \\right )}\\, dt + \\frac{51}{e^{6}}, \\quad C_{2} : - 7 \\int^{1} t e^{- 6 t} \\tan{\\left (t \\right )}\\, dt - \\frac{43}{e^{6}}\\right \\}$"
      ],
      "text/plain": [
       "<IPython.core.display.Math object>"
      ]
     },
     "metadata": {},
     "output_type": "display_data"
    },
    {
     "data": {
      "text/latex": [
       "$\\displaystyle \\text{Substitute the solved constants into } y(t)$"
      ],
      "text/plain": [
       "<IPython.core.display.Math object>"
      ]
     },
     "metadata": {},
     "output_type": "display_data"
    },
    {
     "data": {
      "text/latex": [
       "$\\displaystyle \\left(t \\left(- 7 \\int^{1} t e^{- 6 t} \\tan{\\left (t \\right )}\\, dt - \\frac{43}{e^{6}}\\right) + 7 t \\int t e^{- 6 t} \\tan{\\left (t \\right )}\\, dt - 7 \\int t^{2} e^{- 6 t} \\tan{\\left (t \\right )}\\, dt + 7 \\int^{1} t^{2} e^{- 6 t} \\tan{\\left (t \\right )}\\, dt + \\frac{51}{e^{6}}\\right) e^{6 t}$"
      ],
      "text/plain": [
       "<IPython.core.display.Math object>"
      ]
     },
     "metadata": {},
     "output_type": "display_data"
    }
   ],
   "source": [
    "y, procedure = solve_ivp(y, [(1, 8), (1, 5)])\n",
    "display_procedure(procedure)"
   ]
  },
  {
   "cell_type": "code",
   "execution_count": 6,
   "metadata": {},
   "outputs": [
    {
     "data": {
      "text/latex": [
       "$\\displaystyle \\text{Find successive derivatives of } y(t)$"
      ],
      "text/plain": [
       "<IPython.core.display.Math object>"
      ]
     },
     "metadata": {},
     "output_type": "display_data"
    },
    {
     "data": {
      "text/latex": [
       "$\\displaystyle y{\\left (t \\right )} = \\frac{C_{1} + C_{2} \\ln{\\left (t \\right )}}{t^{5}}$"
      ],
      "text/plain": [
       "<IPython.core.display.Math object>"
      ]
     },
     "metadata": {},
     "output_type": "display_data"
    },
    {
     "data": {
      "text/latex": [
       "$\\displaystyle \\frac{d}{d t} y{\\left (t \\right )} = \\frac{- 5 C_{1} - 5 C_{2} \\ln{\\left (t \\right )} + C_{2}}{t^{6}}$"
      ],
      "text/plain": [
       "<IPython.core.display.Math object>"
      ]
     },
     "metadata": {},
     "output_type": "display_data"
    },
    {
     "data": {
      "text/latex": [
       "$\\displaystyle \\text{Substitute the initial conditions}$"
      ],
      "text/plain": [
       "<IPython.core.display.Math object>"
      ]
     },
     "metadata": {},
     "output_type": "display_data"
    },
    {
     "data": {
      "text/latex": [
       "$\\displaystyle C_{1} = 8$"
      ],
      "text/plain": [
       "<IPython.core.display.Math object>"
      ]
     },
     "metadata": {},
     "output_type": "display_data"
    },
    {
     "data": {
      "text/latex": [
       "$\\displaystyle - 5 C_{1} + C_{2} = 5$"
      ],
      "text/plain": [
       "<IPython.core.display.Math object>"
      ]
     },
     "metadata": {},
     "output_type": "display_data"
    },
    {
     "data": {
      "text/latex": [
       "$\\displaystyle \\text{Solve for the arbitrary constants}$"
      ],
      "text/plain": [
       "<IPython.core.display.Math object>"
      ]
     },
     "metadata": {},
     "output_type": "display_data"
    },
    {
     "data": {
      "text/latex": [
       "$\\displaystyle \\left \\{ C_{1} : 8, \\quad C_{2} : 45\\right \\}$"
      ],
      "text/plain": [
       "<IPython.core.display.Math object>"
      ]
     },
     "metadata": {},
     "output_type": "display_data"
    },
    {
     "data": {
      "text/latex": [
       "$\\displaystyle \\text{Substitute the solved constants into } y(t)$"
      ],
      "text/plain": [
       "<IPython.core.display.Math object>"
      ]
     },
     "metadata": {},
     "output_type": "display_data"
    },
    {
     "data": {
      "text/latex": [
       "$\\displaystyle \\frac{45 \\ln{\\left (t \\right )} + 8}{t^{5}}$"
      ],
      "text/plain": [
       "<IPython.core.display.Math object>"
      ]
     },
     "metadata": {},
     "output_type": "display_data"
    }
   ],
   "source": [
    "y1, y2, _ = sec_order_euler(1, 11, 25)\n",
    "y, consts = to_general([y1, y2])\n",
    "y, procedure = solve_ivp(y, [(1, 8), (1, 5)])\n",
    "display_procedure(procedure)"
   ]
  },
  {
   "cell_type": "code",
   "execution_count": null,
   "metadata": {},
   "outputs": [],
   "source": []
  }
 ],
 "metadata": {
  "kernelspec": {
   "display_name": "Python 3",
   "language": "python",
   "name": "python3"
  },
  "language_info": {
   "codemirror_mode": {
    "name": "ipython",
    "version": 3
   },
   "file_extension": ".py",
   "mimetype": "text/x-python",
   "name": "python",
   "nbconvert_exporter": "python",
   "pygments_lexer": "ipython3",
   "version": "3.6.6"
  }
 },
 "nbformat": 4,
 "nbformat_minor": 2
}
