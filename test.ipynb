{
 "cells": [
  {
   "cell_type": "code",
   "execution_count": 1,
   "metadata": {},
   "outputs": [],
   "source": [
    "from sympy import *\n",
    "init_printing()"
   ]
  },
  {
   "cell_type": "code",
   "execution_count": 2,
   "metadata": {},
   "outputs": [],
   "source": [
    "from solver import *"
   ]
  },
  {
   "cell_type": "code",
   "execution_count": 3,
   "metadata": {},
   "outputs": [
    {
     "data": {
      "image/png": "[encoded data removed]",
      "text/latex": [
       "$$\\left ( e^{- t} \\cos{\\left (\\sqrt{2} t \\right )}, \\quad - e^{- t} \\sin{\\left (\\sqrt{2} t \\right )}\\right )$$"
      ],
      "text/plain": [
       "⎛ -t              -t          ⎞\n",
       "⎝ℯ  ⋅cos(√2⋅t), -ℯ  ⋅sin(√2⋅t)⎠"
      ]
     },
     "execution_count": 3,
     "metadata": {},
     "output_type": "execute_result"
    }
   ],
   "source": [
    "sec_order_const_coeff(1, 2, 3)"
   ]
  },
  {
   "cell_type": "code",
   "execution_count": 4,
   "metadata": {},
   "outputs": [],
   "source": [
    "t = Symbol(\"t\")\n",
    "y1, y2 = sec_order_const_coeff(1, -12, 36)\n",
    "yp = var_parameters(y1, y2, 7 / t * exp(6 * t))"
   ]
  },
  {
   "cell_type": "code",
   "execution_count": 5,
   "metadata": {},
   "outputs": [
    {
     "data": {
      "image/png": "[encoded data removed]",
      "text/latex": [
       "$$7 t e^{6 t} \\log{\\left (t \\right )} - 7 t e^{6 t}$$"
      ],
      "text/plain": [
       "     6⋅t               6⋅t\n",
       "7⋅t⋅ℯ   ⋅log(t) - 7⋅t⋅ℯ   "
      ]
     },
     "execution_count": 5,
     "metadata": {},
     "output_type": "execute_result"
    }
   ],
   "source": [
    "yp"
   ]
  },
  {
   "cell_type": "code",
   "execution_count": 6,
   "metadata": {},
   "outputs": [
    {
     "data": {
      "image/png": "[encoded data removed]",
      "text/latex": [
       "$$\\left(C_{1} + C_{2} t + 7 t \\log{\\left (t \\right )} - 7 t\\right) e^{6 t}$$"
      ],
      "text/plain": [
       "                                6⋅t\n",
       "(C₁ + C₂⋅t + 7⋅t⋅log(t) - 7⋅t)⋅ℯ   "
      ]
     },
     "execution_count": 6,
     "metadata": {},
     "output_type": "execute_result"
    }
   ],
   "source": [
    "to_general([y1, y2], yp)"
   ]
  }
 ],
 "metadata": {
  "kernelspec": {
   "display_name": "Python 3",
   "language": "python",
   "name": "python3"
  },
  "language_info": {
   "codemirror_mode": {
    "name": "ipython",
    "version": 3
   },
   "file_extension": ".py",
   "mimetype": "text/x-python",
   "name": "python",
   "nbconvert_exporter": "python",
   "pygments_lexer": "ipython3",
   "version": "3.6.6"
  }
 },
 "nbformat": 4,
 "nbformat_minor": 2
}
