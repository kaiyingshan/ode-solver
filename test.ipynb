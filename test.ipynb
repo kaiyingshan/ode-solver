{
 "cells": [
  {
   "cell_type": "code",
   "execution_count": 1,
   "metadata": {},
   "outputs": [],
   "source": [
    "from sympy import *\n",
    "init_printing()"
   ]
  },
  {
   "cell_type": "code",
   "execution_count": 2,
   "metadata": {},
   "outputs": [],
   "source": [
    "from solver import *"
   ]
  },
  {
   "cell_type": "code",
   "execution_count": 3,
   "metadata": {},
   "outputs": [
    {
     "name": "stdout",
     "output_type": "stream",
     "text": [
      "Characteristic equation: \n"
     ]
    },
    {
     "data": {
      "image/png": "[encoded data removed]",
      "text/latex": [
       "$$r^{2} + 2 r + 3 = 0$$"
      ],
      "text/plain": [
       " 2              \n",
       "r  + 2⋅r + 3 = 0"
      ]
     },
     "metadata": {},
     "output_type": "display_data"
    },
    {
     "name": "stdout",
     "output_type": "stream",
     "text": [
      "Roots: \n"
     ]
    },
    {
     "data": {
      "image/png": "[encoded data removed]",
      "text/latex": [
       "$$r_{1} = -1 + \\sqrt{2} i$$"
      ],
      "text/plain": [
       "r₁ = -1 + √2⋅ⅈ"
      ]
     },
     "metadata": {},
     "output_type": "display_data"
    },
    {
     "data": {
      "image/png": "[encoded data removed]",
      "text/latex": [
       "$$r_{2} = -1 - \\sqrt{2} i$$"
      ],
      "text/plain": [
       "r₂ = -1 - √2⋅ⅈ"
      ]
     },
     "metadata": {},
     "output_type": "display_data"
    },
    {
     "name": "stdout",
     "output_type": "stream",
     "text": [
      "Solutions:\n"
     ]
    },
    {
     "data": {
      "image/png": "[encoded data removed]",
      "text/latex": [
       "$$e^{- t} \\cos{\\left (\\sqrt{2} t \\right )}$$"
      ],
      "text/plain": [
       " -t          \n",
       "ℯ  ⋅cos(√2⋅t)"
      ]
     },
     "metadata": {},
     "output_type": "display_data"
    },
    {
     "data": {
      "image/png": "[encoded data removed]",
      "text/latex": [
       "$$- e^{- t} \\sin{\\left (\\sqrt{2} t \\right )}$$"
      ],
      "text/plain": [
       "  -t          \n",
       "-ℯ  ⋅sin(√2⋅t)"
      ]
     },
     "metadata": {},
     "output_type": "display_data"
    }
   ],
   "source": [
    "y1, y2, procedure = sec_order_const_coeff(1, 2, 3)\n",
    "from IPython.display import display\n",
    "for _, p in procedure:\n",
    "    print(_)\n",
    "    [display(x) for x in p]"
   ]
  },
  {
   "cell_type": "code",
   "execution_count": 4,
   "metadata": {},
   "outputs": [],
   "source": [
    "t = Symbol(\"t\")\n",
    "y1, y2, _ = sec_order_const_coeff(1, -12, 36)\n",
    "yp = var_parameters(y1, y2, 7 / t * exp(6 * t))"
   ]
  },
  {
   "cell_type": "code",
   "execution_count": 5,
   "metadata": {},
   "outputs": [
    {
     "data": {
      "image/png": "[encoded data removed]",
      "text/latex": [
       "$$7 t e^{6 t} \\log{\\left (t \\right )} - 7 t e^{6 t}$$"
      ],
      "text/plain": [
       "     6⋅t               6⋅t\n",
       "7⋅t⋅ℯ   ⋅log(t) - 7⋅t⋅ℯ   "
      ]
     },
     "execution_count": 5,
     "metadata": {},
     "output_type": "execute_result"
    }
   ],
   "source": [
    "yp"
   ]
  },
  {
   "cell_type": "code",
   "execution_count": 6,
   "metadata": {},
   "outputs": [
    {
     "data": {
      "image/png": "[encoded data removed]",
      "text/latex": [
       "$$\\left ( \\left(C_{1} + C_{2} t + 7 t \\log{\\left (t \\right )} - 7 t\\right) e^{6 t}, \\quad \\left [ C_{1}, \\quad C_{2}\\right ]\\right )$$"
      ],
      "text/plain": [
       "⎛                                6⋅t          ⎞\n",
       "⎝(C₁ + C₂⋅t + 7⋅t⋅log(t) - 7⋅t)⋅ℯ   , [C₁, C₂]⎠"
      ]
     },
     "execution_count": 6,
     "metadata": {},
     "output_type": "execute_result"
    }
   ],
   "source": [
    "to_general([y1, y2], yp)"
   ]
  },
  {
   "cell_type": "code",
   "execution_count": 7,
   "metadata": {},
   "outputs": [
    {
     "data": {
      "image/png": "[encoded data removed]",
      "text/latex": [
       "$$\\frac{C_{1} + C_{2} \\log{\\left (t \\right )}}{t^{5}}$$"
      ],
      "text/plain": [
       "C₁ + C₂⋅log(t)\n",
       "──────────────\n",
       "       5      \n",
       "      t       "
      ]
     },
     "metadata": {},
     "output_type": "display_data"
    },
    {
     "data": {
      "image/png": "[encoded data removed]",
      "text/latex": [
       "$$\\left ( \\frac{45 \\log{\\left (t \\right )} + 8}{t^{5}}, \\quad \\left \\{ C_{1} : 8, \\quad C_{2} : 45\\right \\}, \\quad \\left [ C_{1} = 8, \\quad - 5 C_{1} + C_{2} = 5\\right ]\\right )$$"
      ],
      "text/plain": [
       "⎛45⋅log(t) + 8                                           ⎞\n",
       "⎜─────────────, {C₁: 8, C₂: 45}, [C₁ = 8, -5⋅C₁ + C₂ = 5]⎟\n",
       "⎜       5                                                ⎟\n",
       "⎝      t                                                 ⎠"
      ]
     },
     "execution_count": 7,
     "metadata": {},
     "output_type": "execute_result"
    }
   ],
   "source": [
    "y1, y2, _ = sec_order_euler(1, 11, 25)\n",
    "y, consts = to_general([y1, y2])\n",
    "display(y)\n",
    "solve_ivp(y, [(1, 8), (1, 5)])"
   ]
  },
  {
   "cell_type": "code",
   "execution_count": null,
   "metadata": {},
   "outputs": [],
   "source": []
  }
 ],
 "metadata": {
  "kernelspec": {
   "display_name": "Python 3",
   "language": "python",
   "name": "python3"
  },
  "language_info": {
   "codemirror_mode": {
    "name": "ipython",
    "version": 3
   },
   "file_extension": ".py",
   "mimetype": "text/x-python",
   "name": "python",
   "nbconvert_exporter": "python",
   "pygments_lexer": "ipython3",
   "version": "3.6.6"
  }
 },
 "nbformat": 4,
 "nbformat_minor": 2
}
