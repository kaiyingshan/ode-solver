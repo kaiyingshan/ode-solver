{
 "cells": [
  {
   "cell_type": "code",
   "execution_count": 1,
   "metadata": {},
   "outputs": [],
   "source": [
    "from sympy import *\n",
    "init_printing()\n",
    "from solver import *\n",
    "import re"
   ]
  },
  {
   "cell_type": "code",
   "execution_count": 2,
   "metadata": {
    "scrolled": false
   },
   "outputs": [
    {
     "data": {
      "text/latex": [
       "$\\displaystyle \\text{Characteristic equation: }$"
      ],
      "text/plain": [
       "<IPython.core.display.Math object>"
      ]
     },
     "metadata": {},
     "output_type": "display_data"
    },
    {
     "data": {
      "image/png": "[encoded data removed]",
      "text/latex": [
       "$$r^{2} + 2 r + 3 = 0$$"
      ],
      "text/plain": [
       " 2              \n",
       "r  + 2⋅r + 3 = 0"
      ]
     },
     "metadata": {},
     "output_type": "display_data"
    },
    {
     "data": {
      "text/latex": [
       "$\\displaystyle \\text{Roots: }$"
      ],
      "text/plain": [
       "<IPython.core.display.Math object>"
      ]
     },
     "metadata": {},
     "output_type": "display_data"
    },
    {
     "data": {
      "image/png": "[encoded data removed]",
      "text/latex": [
       "$$r_{1} = -1 + \\sqrt{2} i$$"
      ],
      "text/plain": [
       "r₁ = -1 + √2⋅ⅈ"
      ]
     },
     "metadata": {},
     "output_type": "display_data"
    },
    {
     "data": {
      "image/png": "[encoded data removed]",
      "text/latex": [
       "$$r_{2} = -1 - \\sqrt{2} i$$"
      ],
      "text/plain": [
       "r₂ = -1 - √2⋅ⅈ"
      ]
     },
     "metadata": {},
     "output_type": "display_data"
    },
    {
     "data": {
      "text/latex": [
       "$\\displaystyle \\text{Solutions: }$"
      ],
      "text/plain": [
       "<IPython.core.display.Math object>"
      ]
     },
     "metadata": {},
     "output_type": "display_data"
    },
    {
     "data": {
      "image/png": "[encoded data removed]",
      "text/latex": [
       "$$e^{- t} \\cos{\\left (\\sqrt{2} t \\right )}$$"
      ],
      "text/plain": [
       " -t          \n",
       "ℯ  ⋅cos(√2⋅t)"
      ]
     },
     "metadata": {},
     "output_type": "display_data"
    },
    {
     "data": {
      "image/png": "[encoded data removed]",
      "text/latex": [
       "$$- e^{- t} \\sin{\\left (\\sqrt{2} t \\right )}$$"
      ],
      "text/plain": [
       "  -t          \n",
       "-ℯ  ⋅sin(√2⋅t)"
      ]
     },
     "metadata": {},
     "output_type": "display_data"
    }
   ],
   "source": [
    "y1, y2, procedure = sec_order_const_coeff(1, 2, 3)\n",
    "from IPython.display import display, Math\n",
    "for _, p in procedure:\n",
    "    display(Math(_))\n",
    "    [display(x) for x in p]"
   ]
  },
  {
   "cell_type": "code",
   "execution_count": 3,
   "metadata": {},
   "outputs": [
    {
     "data": {
      "text/latex": [
       "$\\displaystyle \\text{Compute Wronskian}$"
      ],
      "text/plain": [
       "<IPython.core.display.Math object>"
      ]
     },
     "metadata": {},
     "output_type": "display_data"
    },
    {
     "data": {
      "image/png": "[encoded data removed]",
      "text/latex": [
       "$$\\left|{\\left[\\begin{matrix}e^{6 t} & t e^{6 t}\\\\6 e^{6 t} & 6 t e^{6 t} + e^{6 t}\\end{matrix}\\right]}\\right| = e^{12 t}$$"
      ],
      "text/plain": [
       "│⎡  6⋅t          6⋅t     ⎤│        \n",
       "│⎢ ℯ          t⋅ℯ        ⎥│    12⋅t\n",
       "│⎢                       ⎥│ = ℯ    \n",
       "│⎢   6⋅t       6⋅t    6⋅t⎥│        \n",
       "│⎣6⋅ℯ     6⋅t⋅ℯ    + ℯ   ⎦│        "
      ]
     },
     "metadata": {},
     "output_type": "display_data"
    },
    {
     "data": {
      "text/latex": [
       "$\\displaystyle \\text{Compute } W_i$"
      ],
      "text/plain": [
       "<IPython.core.display.Math object>"
      ]
     },
     "metadata": {},
     "output_type": "display_data"
    },
    {
     "data": {
      "image/png": "[encoded data removed]",
      "text/latex": [
       "$$\\left|{\\left[\\begin{matrix}0 & t e^{6 t}\\\\1 & 6 t e^{6 t} + e^{6 t}\\end{matrix}\\right]}\\right| = - t e^{6 t}$$"
      ],
      "text/plain": [
       "│⎡          6⋅t     ⎤│          \n",
       "│⎢0      t⋅ℯ        ⎥│       6⋅t\n",
       "│⎢                  ⎥│ = -t⋅ℯ   \n",
       "│⎢        6⋅t    6⋅t⎥│          \n",
       "│⎣1  6⋅t⋅ℯ    + ℯ   ⎦│          "
      ]
     },
     "metadata": {},
     "output_type": "display_data"
    },
    {
     "data": {
      "image/png": "[encoded data removed]",
      "text/latex": [
       "$$\\left|{\\left[\\begin{matrix}e^{6 t} & 0\\\\6 e^{6 t} & 1\\end{matrix}\\right]}\\right| = e^{6 t}$$"
      ],
      "text/plain": [
       "│⎡  6⋅t    ⎤│       \n",
       "│⎢ ℯ      0⎥│    6⋅t\n",
       "│⎢         ⎥│ = ℯ   \n",
       "│⎢   6⋅t   ⎥│       \n",
       "│⎣6⋅ℯ     1⎦│       "
      ]
     },
     "metadata": {},
     "output_type": "display_data"
    },
    {
     "data": {
      "text/latex": [
       "$\\displaystyle \\text{Compute } \\frac{g(t)}{W(t)}$"
      ],
      "text/plain": [
       "<IPython.core.display.Math object>"
      ]
     },
     "metadata": {},
     "output_type": "display_data"
    },
    {
     "data": {
      "image/png": "[encoded data removed]",
      "text/latex": [
       "$$7 e^{- 6 t} \\sin{\\left (t \\right )} = 7 e^{- 6 t} \\sin{\\left (t \\right )}$$"
      ],
      "text/plain": [
       "   -6⋅t             -6⋅t       \n",
       "7⋅ℯ    ⋅sin(t) = 7⋅ℯ    ⋅sin(t)"
      ]
     },
     "metadata": {},
     "output_type": "display_data"
    },
    {
     "data": {
      "text/latex": [
       "$\\displaystyle \\text{Compute the integral of } \\frac{g(t)W_i(t)}{W(t)}$"
      ],
      "text/plain": [
       "<IPython.core.display.Math object>"
      ]
     },
     "metadata": {},
     "output_type": "display_data"
    },
    {
     "data": {
      "image/png": "[encoded data removed]",
      "text/latex": [
       "$$\\int \\left(- 7 t \\sin{\\left (t \\right )}\\right)\\, dt = 7 t \\cos{\\left (t \\right )} - 7 \\sin{\\left (t \\right )}$$"
      ],
      "text/plain": [
       "⌠                                       \n",
       "⎮ -7⋅t⋅sin(t) dt = 7⋅t⋅cos(t) - 7⋅sin(t)\n",
       "⌡                                       "
      ]
     },
     "metadata": {},
     "output_type": "display_data"
    },
    {
     "data": {
      "image/png": "[encoded data removed]",
      "text/latex": [
       "$$\\int 7 \\sin{\\left (t \\right )}\\, dt = - 7 \\cos{\\left (t \\right )}$$"
      ],
      "text/plain": [
       "⌠                        \n",
       "⎮ 7⋅sin(t) dt = -7⋅cos(t)\n",
       "⌡                        "
      ]
     },
     "metadata": {},
     "output_type": "display_data"
    },
    {
     "data": {
      "text/latex": [
       "$\\displaystyle \\text{Sum together and simplify }$"
      ],
      "text/plain": [
       "<IPython.core.display.Math object>"
      ]
     },
     "metadata": {},
     "output_type": "display_data"
    },
    {
     "data": {
      "image/png": "[encoded data removed]",
      "text/latex": [
       "$$- 7 t e^{6 t} \\cos{\\left (t \\right )} + \\left(7 t \\cos{\\left (t \\right )} - 7 \\sin{\\left (t \\right )}\\right) e^{6 t} = - 7 e^{6 t} \\sin{\\left (t \\right )}$$"
      ],
      "text/plain": [
       "       6⋅t                                   6⋅t       6⋅t       \n",
       "- 7⋅t⋅ℯ   ⋅cos(t) + (7⋅t⋅cos(t) - 7⋅sin(t))⋅ℯ    = -7⋅ℯ   ⋅sin(t)"
      ]
     },
     "metadata": {},
     "output_type": "display_data"
    }
   ],
   "source": [
    "t = Symbol(\"t\")\n",
    "y1, y2, _ = sec_order_const_coeff(1, -12, 36)\n",
    "yp, procedure = var_parameters([y1, y2], sin(t) * 7 * exp(6 * t))\n",
    "for _, p in procedure:\n",
    "    display(Math(_))\n",
    "    [display(x) for x in p]"
   ]
  },
  {
   "cell_type": "code",
   "execution_count": 4,
   "metadata": {
    "scrolled": false
   },
   "outputs": [
    {
     "data": {
      "image/png": "[encoded data removed]",
      "text/latex": [
       "$$\\left(C_{1} + C_{2} t - 7 \\sin{\\left (t \\right )}\\right) e^{6 t}$$"
      ],
      "text/plain": [
       "                        6⋅t\n",
       "(C₁ + C₂⋅t - 7⋅sin(t))⋅ℯ   "
      ]
     },
     "execution_count": 4,
     "metadata": {},
     "output_type": "execute_result"
    }
   ],
   "source": [
    "y, consts = to_general([y1, y2], yp)\n",
    "y"
   ]
  },
  {
   "cell_type": "code",
   "execution_count": 5,
   "metadata": {},
   "outputs": [
    {
     "data": {
      "image/png": "[encoded data removed]",
      "text/latex": [
       "$$\\left ( \\left(t \\left(- \\frac{43}{e^{6}} + 7 \\cos{\\left (1 \\right )}\\right) - 7 \\sin{\\left (t \\right )} + \\frac{51}{e^{6}} - 7 \\sqrt{2} \\cos{\\left (\\frac{\\pi}{4} + 1 \\right )}\\right) e^{6 t}, \\quad \\left \\{ C_{1} : \\frac{51}{e^{6}} - 7 \\sqrt{2} \\cos{\\left (\\frac{\\pi}{4} + 1 \\right )}, \\quad C_{2} : - \\frac{43}{e^{6}} + 7 \\cos{\\left (1 \\right )}\\right \\}, \\quad \\left [ \\left(C_{1} + C_{2} - 7 \\sin{\\left (1 \\right )}\\right) e^{6} = 8, \\quad \\left(C_{2} - 7 \\cos{\\left (1 \\right )}\\right) e^{6} + 6 \\left(C_{1} + C_{2} - 7 \\sin{\\left (1 \\right )}\\right) e^{6} = 5\\right ]\\right )$$"
      ],
      "text/plain": [
       "⎛⎛  ⎛      -6           ⎞                  -6           ⎛π    ⎞⎞  6⋅t  ⎧      \n",
       "⎜⎜t⋅⎝- 43⋅ℯ   + 7⋅cos(1)⎠ - 7⋅sin(t) + 51⋅ℯ   - 7⋅√2⋅cos⎜─ + 1⎟⎟⋅ℯ   , ⎨C₁: 51\n",
       "⎝⎝                                                      ⎝4    ⎠⎠       ⎩      \n",
       "\n",
       "  -6           ⎛π    ⎞            -6           ⎫  ⎡                      6    \n",
       "⋅ℯ   - 7⋅√2⋅cos⎜─ + 1⎟, C₂: - 43⋅ℯ   + 7⋅cos(1)⎬, ⎣(C₁ + C₂ - 7⋅sin(1))⋅ℯ  = 8\n",
       "               ⎝4    ⎠                         ⎭                              \n",
       "\n",
       "                   6                           6    ⎤⎞\n",
       ", (C₂ - 7⋅cos(1))⋅ℯ  + 6⋅(C₁ + C₂ - 7⋅sin(1))⋅ℯ  = 5⎦⎟\n",
       "                                                     ⎠"
      ]
     },
     "execution_count": 5,
     "metadata": {},
     "output_type": "execute_result"
    }
   ],
   "source": [
    "solve_ivp(y, [(1, 8), (1, 5)])"
   ]
  },
  {
   "cell_type": "code",
   "execution_count": 6,
   "metadata": {},
   "outputs": [
    {
     "data": {
      "image/png": "[encoded data removed]",
      "text/latex": [
       "$$\\frac{C_{1} + C_{2} \\log{\\left (t \\right )}}{t^{5}}$$"
      ],
      "text/plain": [
       "C₁ + C₂⋅log(t)\n",
       "──────────────\n",
       "       5      \n",
       "      t       "
      ]
     },
     "metadata": {},
     "output_type": "display_data"
    },
    {
     "data": {
      "image/png": "[encoded data removed]",
      "text/latex": [
       "$$\\left ( \\frac{45 \\log{\\left (t \\right )} + 8}{t^{5}}, \\quad \\left \\{ C_{1} : 8, \\quad C_{2} : 45\\right \\}, \\quad \\left [ C_{1} = 8, \\quad - 5 C_{1} + C_{2} = 5\\right ]\\right )$$"
      ],
      "text/plain": [
       "⎛45⋅log(t) + 8                                           ⎞\n",
       "⎜─────────────, {C₁: 8, C₂: 45}, [C₁ = 8, -5⋅C₁ + C₂ = 5]⎟\n",
       "⎜       5                                                ⎟\n",
       "⎝      t                                                 ⎠"
      ]
     },
     "execution_count": 6,
     "metadata": {},
     "output_type": "execute_result"
    }
   ],
   "source": [
    "y1, y2, _ = sec_order_euler(1, 11, 25)\n",
    "y, consts = to_general([y1, y2])\n",
    "display(y)\n",
    "solve_ivp(y, [(1, 8), (1, 5)])"
   ]
  },
  {
   "cell_type": "code",
   "execution_count": null,
   "metadata": {},
   "outputs": [],
   "source": []
  }
 ],
 "metadata": {
  "kernelspec": {
   "display_name": "Python 3",
   "language": "python",
   "name": "python3"
  },
  "language_info": {
   "codemirror_mode": {
    "name": "ipython",
    "version": 3
   },
   "file_extension": ".py",
   "mimetype": "text/x-python",
   "name": "python",
   "nbconvert_exporter": "python",
   "pygments_lexer": "ipython3",
   "version": "3.6.6"
  }
 },
 "nbformat": 4,
 "nbformat_minor": 2
}
